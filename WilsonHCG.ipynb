{
 "cells": [
  {
   "cell_type": "markdown",
   "id": "195e6259",
   "metadata": {},
   "source": [
    "#### import packages"
   ]
  },
  {
   "cell_type": "code",
   "execution_count": 3,
   "id": "b82910b1",
   "metadata": {},
   "outputs": [
    {
     "name": "stdout",
     "output_type": "stream",
     "text": [
      "Finish importing packages\n"
     ]
    }
   ],
   "source": [
    "from selenium import webdriver\n",
    "from selenium.webdriver.common.keys import Keys\n",
    "from bs4 import BeautifulSoup\n",
    "from time import sleep\n",
    "import csv \n",
    "from lxml import etree\n",
    "import pandas as pd\n",
    "import numpy as np\n",
    "from selenium.webdriver.common.by import By\n",
    "\n",
    "print(\"Finish importing packages\")"
   ]
  },
  {
   "cell_type": "code",
   "execution_count": 4,
   "id": "a9c322ea",
   "metadata": {},
   "outputs": [
    {
     "name": "stderr",
     "output_type": "stream",
     "text": [
      "<ipython-input-4-855cc3fcee5d>:8: DeprecationWarning: executable_path has been deprecated, please pass in a Service object\n",
      "  driver = webdriver.Chrome(PATH)\n"
     ]
    },
    {
     "name": "stdout",
     "output_type": "stream",
     "text": [
      "Web driver is launched successfully\n"
     ]
    }
   ],
   "source": [
    "# provide chromedriver path\n",
    "\n",
    "PATH = \"C:\\Webdrivers\\Chromedriver 69\\chromedriver.exe\"\n",
    "\n",
    "\n",
    "# Open Chrome and Access Linkedin login site\n",
    "\n",
    "driver = webdriver.Chrome(PATH)\n",
    "sleep(2)\n",
    "\n",
    "print('Web driver is launched successfully')"
   ]
  },
  {
   "cell_type": "markdown",
   "id": "a7b82e9d",
   "metadata": {},
   "source": [
    "  "
   ]
  },
  {
   "cell_type": "markdown",
   "id": "e33d179f",
   "metadata": {},
   "source": [
    "#### Extracting a data"
   ]
  },
  {
   "cell_type": "code",
   "execution_count": 5,
   "id": "4faa5fb5",
   "metadata": {},
   "outputs": [
    {
     "name": "stderr",
     "output_type": "stream",
     "text": [
      "<ipython-input-5-e64b6eba090d>:17: DeprecationWarning: find_elements_by_* commands are deprecated. Please use find_elements() instead\n",
      "  for title in driver.find_elements_by_xpath('//div[@class=\"list__item__text__title\"]'):\n",
      "<ipython-input-5-e64b6eba090d>:20: DeprecationWarning: find_elements_by_* commands are deprecated. Please use find_elements() instead\n",
      "  for ref in driver.find_elements_by_xpath('//div[@class=\"list__item__text__subtitle\"]/span'):\n",
      "<ipython-input-5-e64b6eba090d>:23: DeprecationWarning: find_elements_by_* commands are deprecated. Please use find_elements() instead\n",
      "  for loc in driver.find_elements_by_xpath('//div[@class=\"list__item__text__subtitle\"]/span'):\n",
      "<ipython-input-5-e64b6eba090d>:26: DeprecationWarning: find_elements_by_* commands are deprecated. Please use find_elements() instead\n",
      "  for date in driver.find_elements_by_xpath('//div[@class=\"list__item__text__subtitle\"]/span'):\n"
     ]
    }
   ],
   "source": [
    "# creating empty lists to store the data\n",
    "\n",
    "job_title = []\n",
    "reference = []\n",
    "location = []\n",
    "date_posted = []\n",
    "\n",
    "\n",
    "# creating pagination\n",
    "\n",
    "for num in range(0,11,10):\n",
    "    \n",
    "    url = f'https://wilsonhcg.avature.net/careers/SearchJobs/?jobOffset={num}'\n",
    "    driver.get(url)\n",
    "    sleep(15)\n",
    "    \n",
    "    for title in driver.find_elements_by_xpath('//div[@class=\"list__item__text__title\"]'):\n",
    "        job_title.append(title.text)\n",
    "        \n",
    "    for ref in driver.find_elements_by_xpath('//div[@class=\"list__item__text__subtitle\"]/span'):\n",
    "        reference.append(ref.text)\n",
    "      \n",
    "    for loc in driver.find_elements_by_xpath('//div[@class=\"list__item__text__subtitle\"]/span'):\n",
    "        location.append(loc.text)\n",
    "      \n",
    "    for date in driver.find_elements_by_xpath('//div[@class=\"list__item__text__subtitle\"]/span'):\n",
    "        date_posted.append(date.text)\n",
    "      \n",
    " \n",
    "    \n",
    "    \n"
   ]
  },
  {
   "cell_type": "code",
   "execution_count": 6,
   "id": "5127f65c",
   "metadata": {},
   "outputs": [
    {
     "data": {
      "text/plain": [
       "['Bilingual Recruitment Consultant (Spanish Speaking)',\n",
       " 'Coordinator, People & Culture (Bilingual – French)',\n",
       " 'Corporate Counsel, Contracts Specialist',\n",
       " 'Director of Recruiting Operations, Mexico',\n",
       " 'Executive Search Recruiter',\n",
       " 'Finance Talent Attraction Specialist (Investment Banking)',\n",
       " 'Financial Recruitment Consultant',\n",
       " 'Financial Recruitment Consultant (Consumer Product Banking)',\n",
       " 'Recruitment Consultant',\n",
       " 'Recruitment Operations Manager',\n",
       " 'Recruitment Operations Manager, Exec. Search',\n",
       " 'Sales Director (Claro)',\n",
       " 'Talent Administrator & Coordinator',\n",
       " 'Talent Administrator & Coordinator',\n",
       " 'Talent Attraction Media Manager',\n",
       " 'Talent Attraction Specialist',\n",
       " 'Technical Recruitment Consultant']"
      ]
     },
     "execution_count": 6,
     "metadata": {},
     "output_type": "execute_result"
    }
   ],
   "source": [
    "job_title"
   ]
  },
  {
   "cell_type": "code",
   "execution_count": 7,
   "id": "be37857a",
   "metadata": {},
   "outputs": [
    {
     "data": {
      "text/plain": [
       "['United States.',\n",
       " 'Job ID: 87408.',\n",
       " 'Posted: 09-Aug-2022',\n",
       " 'Category: Talent Acquisition',\n",
       " 'Canada.',\n",
       " 'Job ID: 89261.',\n",
       " 'Posted: 30-Aug-2022',\n",
       " 'Category: Human Resources',\n",
       " 'United States.',\n",
       " 'Job ID: 82575.',\n",
       " 'Posted: 31-Aug-2022',\n",
       " 'Category: Legal',\n",
       " 'Guadalajara, Mexico.',\n",
       " 'Job ID: 89498.',\n",
       " 'Posted: 06-Sep-2022',\n",
       " 'Tokyo, Japan.',\n",
       " 'Job ID: 84529.',\n",
       " 'Posted: 09-Sep-2022',\n",
       " 'Category: Talent Acquisition',\n",
       " 'United States.',\n",
       " 'Job ID: 86406.',\n",
       " 'Posted: 08-Sep-2022',\n",
       " 'Category: Talent Acquisition',\n",
       " 'United States.',\n",
       " 'Job ID: 86407.',\n",
       " 'Posted: 07-Sep-2022',\n",
       " 'Category: Talent Acquisition',\n",
       " 'United States.',\n",
       " 'Job ID: 86409.',\n",
       " 'Posted: 09-Sep-2022',\n",
       " 'Category: Talent Acquisition',\n",
       " 'Prague, Czech Republic.',\n",
       " 'Job ID: 81098.',\n",
       " 'Posted: 07-Sep-2022',\n",
       " 'Category: Talent Acquisition',\n",
       " 'Krakow, Poland.',\n",
       " 'Job ID: 89431.',\n",
       " 'Posted: 09-Sep-2022',\n",
       " 'Category: Talent Acquisition',\n",
       " 'Tokyo, Tokyo, Japan.',\n",
       " 'Job ID: 88749.',\n",
       " 'Posted: 09-Sep-2022',\n",
       " 'Category: Talent Acquisition',\n",
       " 'United States.',\n",
       " 'Job ID: 89509.',\n",
       " 'Posted: 02-Sep-2022',\n",
       " 'Category: Sales/Business Development',\n",
       " 'Krakow, Małopolskie, Poland.',\n",
       " 'Job ID: 88174.',\n",
       " 'Posted: 07-Sep-2022',\n",
       " 'Category: Administrative/Clerical',\n",
       " 'California, United States.',\n",
       " 'Job ID: 87420.',\n",
       " 'Posted: 07-Sep-2022',\n",
       " 'Category: Administrative/Clerical',\n",
       " 'United Kingdom.',\n",
       " 'Job ID: 85956.',\n",
       " 'Posted: 10-Aug-2022',\n",
       " 'Category: Talent Acquisition',\n",
       " 'United States.',\n",
       " 'Job ID: 82065.',\n",
       " 'Posted: 08-Sep-2022',\n",
       " 'Category: Talent Acquisition',\n",
       " 'Romania.',\n",
       " 'Job ID: 83497.',\n",
       " 'Posted: 07-Sep-2022',\n",
       " 'Category: Talent Acquisition']"
      ]
     },
     "execution_count": 7,
     "metadata": {},
     "output_type": "execute_result"
    }
   ],
   "source": [
    "reference"
   ]
  },
  {
   "cell_type": "code",
   "execution_count": 8,
   "id": "913dfdf3",
   "metadata": {},
   "outputs": [],
   "source": [
    "prac = pd.DataFrame(reference)"
   ]
  },
  {
   "cell_type": "code",
   "execution_count": 24,
   "id": "2227c073",
   "metadata": {},
   "outputs": [],
   "source": [
    "countries = prac[(prac[0].str.contains('Job|Posted|Category') == False)][0].tolist()"
   ]
  },
  {
   "cell_type": "code",
   "execution_count": 25,
   "id": "0a17e13c",
   "metadata": {},
   "outputs": [
    {
     "data": {
      "text/plain": [
       "['United States.',\n",
       " 'Canada.',\n",
       " 'United States.',\n",
       " 'Guadalajara, Mexico.',\n",
       " 'Tokyo, Japan.',\n",
       " 'United States.',\n",
       " 'United States.',\n",
       " 'United States.',\n",
       " 'Prague, Czech Republic.',\n",
       " 'Krakow, Poland.',\n",
       " 'Tokyo, Tokyo, Japan.',\n",
       " 'United States.',\n",
       " 'Krakow, Małopolskie, Poland.',\n",
       " 'California, United States.',\n",
       " 'United Kingdom.',\n",
       " 'United States.',\n",
       " 'Romania.']"
      ]
     },
     "execution_count": 25,
     "metadata": {},
     "output_type": "execute_result"
    }
   ],
   "source": [
    "countries"
   ]
  },
  {
   "cell_type": "code",
   "execution_count": 26,
   "id": "f67a50c5",
   "metadata": {},
   "outputs": [],
   "source": [
    "reference = prac[(prac[0].str.contains('Job'))][0].tolist()"
   ]
  },
  {
   "cell_type": "code",
   "execution_count": 27,
   "id": "54f8f571",
   "metadata": {},
   "outputs": [
    {
     "data": {
      "text/plain": [
       "['Job ID: 87408.',\n",
       " 'Job ID: 89261.',\n",
       " 'Job ID: 82575.',\n",
       " 'Job ID: 89498.',\n",
       " 'Job ID: 84529.',\n",
       " 'Job ID: 86406.',\n",
       " 'Job ID: 86407.',\n",
       " 'Job ID: 86409.',\n",
       " 'Job ID: 81098.',\n",
       " 'Job ID: 89431.',\n",
       " 'Job ID: 88749.',\n",
       " 'Job ID: 89509.',\n",
       " 'Job ID: 88174.',\n",
       " 'Job ID: 87420.',\n",
       " 'Job ID: 85956.',\n",
       " 'Job ID: 82065.',\n",
       " 'Job ID: 83497.']"
      ]
     },
     "execution_count": 27,
     "metadata": {},
     "output_type": "execute_result"
    }
   ],
   "source": [
    "reference"
   ]
  },
  {
   "cell_type": "code",
   "execution_count": 28,
   "id": "3523406a",
   "metadata": {},
   "outputs": [],
   "source": [
    "date = prac[(prac[0].str.contains('Posted'))][0].tolist()"
   ]
  },
  {
   "cell_type": "code",
   "execution_count": 29,
   "id": "9ee9b355",
   "metadata": {},
   "outputs": [
    {
     "data": {
      "text/plain": [
       "['Posted: 09-Aug-2022',\n",
       " 'Posted: 30-Aug-2022',\n",
       " 'Posted: 31-Aug-2022',\n",
       " 'Posted: 06-Sep-2022',\n",
       " 'Posted: 09-Sep-2022',\n",
       " 'Posted: 08-Sep-2022',\n",
       " 'Posted: 07-Sep-2022',\n",
       " 'Posted: 09-Sep-2022',\n",
       " 'Posted: 07-Sep-2022',\n",
       " 'Posted: 09-Sep-2022',\n",
       " 'Posted: 09-Sep-2022',\n",
       " 'Posted: 02-Sep-2022',\n",
       " 'Posted: 07-Sep-2022',\n",
       " 'Posted: 07-Sep-2022',\n",
       " 'Posted: 10-Aug-2022',\n",
       " 'Posted: 08-Sep-2022',\n",
       " 'Posted: 07-Sep-2022']"
      ]
     },
     "execution_count": 29,
     "metadata": {},
     "output_type": "execute_result"
    }
   ],
   "source": [
    "date"
   ]
  },
  {
   "cell_type": "code",
   "execution_count": 32,
   "id": "dbc506c6",
   "metadata": {},
   "outputs": [
    {
     "name": "stdout",
     "output_type": "stream",
     "text": [
      "17\n",
      "17\n",
      "17\n",
      "17\n"
     ]
    }
   ],
   "source": [
    "print(len(job_title))\n",
    "print(len(countries))\n",
    "print(len(reference))\n",
    "print(len(date))"
   ]
  },
  {
   "cell_type": "code",
   "execution_count": 33,
   "id": "1efcb917",
   "metadata": {},
   "outputs": [],
   "source": [
    "data = pd.DataFrame({\n",
    "    \n",
    "    'Job_Title':job_title,\n",
    "    'Location':countries,\n",
    "    'Reference':reference,\n",
    "    'Date_Posted':date\n",
    "})"
   ]
  },
  {
   "cell_type": "code",
   "execution_count": 34,
   "id": "fbc85e00",
   "metadata": {},
   "outputs": [
    {
     "data": {
      "text/html": [
       "<div>\n",
       "<style scoped>\n",
       "    .dataframe tbody tr th:only-of-type {\n",
       "        vertical-align: middle;\n",
       "    }\n",
       "\n",
       "    .dataframe tbody tr th {\n",
       "        vertical-align: top;\n",
       "    }\n",
       "\n",
       "    .dataframe thead th {\n",
       "        text-align: right;\n",
       "    }\n",
       "</style>\n",
       "<table border=\"1\" class=\"dataframe\">\n",
       "  <thead>\n",
       "    <tr style=\"text-align: right;\">\n",
       "      <th></th>\n",
       "      <th>Job_Title</th>\n",
       "      <th>Location</th>\n",
       "      <th>Reference</th>\n",
       "      <th>Date_Posted</th>\n",
       "    </tr>\n",
       "  </thead>\n",
       "  <tbody>\n",
       "    <tr>\n",
       "      <th>0</th>\n",
       "      <td>Bilingual Recruitment Consultant (Spanish Spea...</td>\n",
       "      <td>United States.</td>\n",
       "      <td>Job ID: 87408.</td>\n",
       "      <td>Posted: 09-Aug-2022</td>\n",
       "    </tr>\n",
       "    <tr>\n",
       "      <th>1</th>\n",
       "      <td>Coordinator, People &amp; Culture (Bilingual – Fre...</td>\n",
       "      <td>Canada.</td>\n",
       "      <td>Job ID: 89261.</td>\n",
       "      <td>Posted: 30-Aug-2022</td>\n",
       "    </tr>\n",
       "    <tr>\n",
       "      <th>2</th>\n",
       "      <td>Corporate Counsel, Contracts Specialist</td>\n",
       "      <td>United States.</td>\n",
       "      <td>Job ID: 82575.</td>\n",
       "      <td>Posted: 31-Aug-2022</td>\n",
       "    </tr>\n",
       "    <tr>\n",
       "      <th>3</th>\n",
       "      <td>Director of Recruiting Operations, Mexico</td>\n",
       "      <td>Guadalajara, Mexico.</td>\n",
       "      <td>Job ID: 89498.</td>\n",
       "      <td>Posted: 06-Sep-2022</td>\n",
       "    </tr>\n",
       "    <tr>\n",
       "      <th>4</th>\n",
       "      <td>Executive Search Recruiter</td>\n",
       "      <td>Tokyo, Japan.</td>\n",
       "      <td>Job ID: 84529.</td>\n",
       "      <td>Posted: 09-Sep-2022</td>\n",
       "    </tr>\n",
       "    <tr>\n",
       "      <th>5</th>\n",
       "      <td>Finance Talent Attraction Specialist (Investme...</td>\n",
       "      <td>United States.</td>\n",
       "      <td>Job ID: 86406.</td>\n",
       "      <td>Posted: 08-Sep-2022</td>\n",
       "    </tr>\n",
       "    <tr>\n",
       "      <th>6</th>\n",
       "      <td>Financial Recruitment Consultant</td>\n",
       "      <td>United States.</td>\n",
       "      <td>Job ID: 86407.</td>\n",
       "      <td>Posted: 07-Sep-2022</td>\n",
       "    </tr>\n",
       "    <tr>\n",
       "      <th>7</th>\n",
       "      <td>Financial Recruitment Consultant (Consumer Pro...</td>\n",
       "      <td>United States.</td>\n",
       "      <td>Job ID: 86409.</td>\n",
       "      <td>Posted: 09-Sep-2022</td>\n",
       "    </tr>\n",
       "    <tr>\n",
       "      <th>8</th>\n",
       "      <td>Recruitment Consultant</td>\n",
       "      <td>Prague, Czech Republic.</td>\n",
       "      <td>Job ID: 81098.</td>\n",
       "      <td>Posted: 07-Sep-2022</td>\n",
       "    </tr>\n",
       "    <tr>\n",
       "      <th>9</th>\n",
       "      <td>Recruitment Operations Manager</td>\n",
       "      <td>Krakow, Poland.</td>\n",
       "      <td>Job ID: 89431.</td>\n",
       "      <td>Posted: 09-Sep-2022</td>\n",
       "    </tr>\n",
       "    <tr>\n",
       "      <th>10</th>\n",
       "      <td>Recruitment Operations Manager, Exec. Search</td>\n",
       "      <td>Tokyo, Tokyo, Japan.</td>\n",
       "      <td>Job ID: 88749.</td>\n",
       "      <td>Posted: 09-Sep-2022</td>\n",
       "    </tr>\n",
       "    <tr>\n",
       "      <th>11</th>\n",
       "      <td>Sales Director (Claro)</td>\n",
       "      <td>United States.</td>\n",
       "      <td>Job ID: 89509.</td>\n",
       "      <td>Posted: 02-Sep-2022</td>\n",
       "    </tr>\n",
       "    <tr>\n",
       "      <th>12</th>\n",
       "      <td>Talent Administrator &amp; Coordinator</td>\n",
       "      <td>Krakow, Małopolskie, Poland.</td>\n",
       "      <td>Job ID: 88174.</td>\n",
       "      <td>Posted: 07-Sep-2022</td>\n",
       "    </tr>\n",
       "    <tr>\n",
       "      <th>13</th>\n",
       "      <td>Talent Administrator &amp; Coordinator</td>\n",
       "      <td>California, United States.</td>\n",
       "      <td>Job ID: 87420.</td>\n",
       "      <td>Posted: 07-Sep-2022</td>\n",
       "    </tr>\n",
       "    <tr>\n",
       "      <th>14</th>\n",
       "      <td>Talent Attraction Media Manager</td>\n",
       "      <td>United Kingdom.</td>\n",
       "      <td>Job ID: 85956.</td>\n",
       "      <td>Posted: 10-Aug-2022</td>\n",
       "    </tr>\n",
       "    <tr>\n",
       "      <th>15</th>\n",
       "      <td>Talent Attraction Specialist</td>\n",
       "      <td>United States.</td>\n",
       "      <td>Job ID: 82065.</td>\n",
       "      <td>Posted: 08-Sep-2022</td>\n",
       "    </tr>\n",
       "    <tr>\n",
       "      <th>16</th>\n",
       "      <td>Technical Recruitment Consultant</td>\n",
       "      <td>Romania.</td>\n",
       "      <td>Job ID: 83497.</td>\n",
       "      <td>Posted: 07-Sep-2022</td>\n",
       "    </tr>\n",
       "  </tbody>\n",
       "</table>\n",
       "</div>"
      ],
      "text/plain": [
       "                                            Job_Title  \\\n",
       "0   Bilingual Recruitment Consultant (Spanish Spea...   \n",
       "1   Coordinator, People & Culture (Bilingual – Fre...   \n",
       "2             Corporate Counsel, Contracts Specialist   \n",
       "3           Director of Recruiting Operations, Mexico   \n",
       "4                          Executive Search Recruiter   \n",
       "5   Finance Talent Attraction Specialist (Investme...   \n",
       "6                    Financial Recruitment Consultant   \n",
       "7   Financial Recruitment Consultant (Consumer Pro...   \n",
       "8                              Recruitment Consultant   \n",
       "9                      Recruitment Operations Manager   \n",
       "10       Recruitment Operations Manager, Exec. Search   \n",
       "11                             Sales Director (Claro)   \n",
       "12                 Talent Administrator & Coordinator   \n",
       "13                 Talent Administrator & Coordinator   \n",
       "14                    Talent Attraction Media Manager   \n",
       "15                       Talent Attraction Specialist   \n",
       "16                   Technical Recruitment Consultant   \n",
       "\n",
       "                        Location       Reference          Date_Posted  \n",
       "0                 United States.  Job ID: 87408.  Posted: 09-Aug-2022  \n",
       "1                        Canada.  Job ID: 89261.  Posted: 30-Aug-2022  \n",
       "2                 United States.  Job ID: 82575.  Posted: 31-Aug-2022  \n",
       "3           Guadalajara, Mexico.  Job ID: 89498.  Posted: 06-Sep-2022  \n",
       "4                  Tokyo, Japan.  Job ID: 84529.  Posted: 09-Sep-2022  \n",
       "5                 United States.  Job ID: 86406.  Posted: 08-Sep-2022  \n",
       "6                 United States.  Job ID: 86407.  Posted: 07-Sep-2022  \n",
       "7                 United States.  Job ID: 86409.  Posted: 09-Sep-2022  \n",
       "8        Prague, Czech Republic.  Job ID: 81098.  Posted: 07-Sep-2022  \n",
       "9                Krakow, Poland.  Job ID: 89431.  Posted: 09-Sep-2022  \n",
       "10          Tokyo, Tokyo, Japan.  Job ID: 88749.  Posted: 09-Sep-2022  \n",
       "11                United States.  Job ID: 89509.  Posted: 02-Sep-2022  \n",
       "12  Krakow, Małopolskie, Poland.  Job ID: 88174.  Posted: 07-Sep-2022  \n",
       "13    California, United States.  Job ID: 87420.  Posted: 07-Sep-2022  \n",
       "14               United Kingdom.  Job ID: 85956.  Posted: 10-Aug-2022  \n",
       "15                United States.  Job ID: 82065.  Posted: 08-Sep-2022  \n",
       "16                      Romania.  Job ID: 83497.  Posted: 07-Sep-2022  "
      ]
     },
     "execution_count": 34,
     "metadata": {},
     "output_type": "execute_result"
    }
   ],
   "source": [
    "data"
   ]
  },
  {
   "cell_type": "code",
   "execution_count": 41,
   "id": "fff91689",
   "metadata": {},
   "outputs": [],
   "source": [
    "data['Reference'] = data['Reference'].str.strip('Job ID: .')"
   ]
  },
  {
   "cell_type": "code",
   "execution_count": 42,
   "id": "76157923",
   "metadata": {},
   "outputs": [
    {
     "data": {
      "text/html": [
       "<div>\n",
       "<style scoped>\n",
       "    .dataframe tbody tr th:only-of-type {\n",
       "        vertical-align: middle;\n",
       "    }\n",
       "\n",
       "    .dataframe tbody tr th {\n",
       "        vertical-align: top;\n",
       "    }\n",
       "\n",
       "    .dataframe thead th {\n",
       "        text-align: right;\n",
       "    }\n",
       "</style>\n",
       "<table border=\"1\" class=\"dataframe\">\n",
       "  <thead>\n",
       "    <tr style=\"text-align: right;\">\n",
       "      <th></th>\n",
       "      <th>Job_Title</th>\n",
       "      <th>Location</th>\n",
       "      <th>Reference</th>\n",
       "      <th>Date_Posted</th>\n",
       "    </tr>\n",
       "  </thead>\n",
       "  <tbody>\n",
       "    <tr>\n",
       "      <th>0</th>\n",
       "      <td>Bilingual Recruitment Consultant (Spanish Spea...</td>\n",
       "      <td>United States.</td>\n",
       "      <td>87408</td>\n",
       "      <td>Posted: 09-Aug-2022</td>\n",
       "    </tr>\n",
       "    <tr>\n",
       "      <th>1</th>\n",
       "      <td>Coordinator, People &amp; Culture (Bilingual – Fre...</td>\n",
       "      <td>Canada.</td>\n",
       "      <td>89261</td>\n",
       "      <td>Posted: 30-Aug-2022</td>\n",
       "    </tr>\n",
       "    <tr>\n",
       "      <th>2</th>\n",
       "      <td>Corporate Counsel, Contracts Specialist</td>\n",
       "      <td>United States.</td>\n",
       "      <td>82575</td>\n",
       "      <td>Posted: 31-Aug-2022</td>\n",
       "    </tr>\n",
       "    <tr>\n",
       "      <th>3</th>\n",
       "      <td>Director of Recruiting Operations, Mexico</td>\n",
       "      <td>Guadalajara, Mexico.</td>\n",
       "      <td>89498</td>\n",
       "      <td>Posted: 06-Sep-2022</td>\n",
       "    </tr>\n",
       "    <tr>\n",
       "      <th>4</th>\n",
       "      <td>Executive Search Recruiter</td>\n",
       "      <td>Tokyo, Japan.</td>\n",
       "      <td>84529</td>\n",
       "      <td>Posted: 09-Sep-2022</td>\n",
       "    </tr>\n",
       "  </tbody>\n",
       "</table>\n",
       "</div>"
      ],
      "text/plain": [
       "                                           Job_Title              Location  \\\n",
       "0  Bilingual Recruitment Consultant (Spanish Spea...        United States.   \n",
       "1  Coordinator, People & Culture (Bilingual – Fre...               Canada.   \n",
       "2            Corporate Counsel, Contracts Specialist        United States.   \n",
       "3          Director of Recruiting Operations, Mexico  Guadalajara, Mexico.   \n",
       "4                         Executive Search Recruiter         Tokyo, Japan.   \n",
       "\n",
       "  Reference          Date_Posted  \n",
       "0     87408  Posted: 09-Aug-2022  \n",
       "1     89261  Posted: 30-Aug-2022  \n",
       "2     82575  Posted: 31-Aug-2022  \n",
       "3     89498  Posted: 06-Sep-2022  \n",
       "4     84529  Posted: 09-Sep-2022  "
      ]
     },
     "execution_count": 42,
     "metadata": {},
     "output_type": "execute_result"
    }
   ],
   "source": [
    "data.head()"
   ]
  },
  {
   "cell_type": "code",
   "execution_count": 43,
   "id": "f421f7b4",
   "metadata": {},
   "outputs": [],
   "source": [
    "data['Date_Posted'] = data['Date_Posted'].str.strip('Posted: ')"
   ]
  },
  {
   "cell_type": "code",
   "execution_count": 44,
   "id": "eff780a6",
   "metadata": {},
   "outputs": [
    {
     "data": {
      "text/html": [
       "<div>\n",
       "<style scoped>\n",
       "    .dataframe tbody tr th:only-of-type {\n",
       "        vertical-align: middle;\n",
       "    }\n",
       "\n",
       "    .dataframe tbody tr th {\n",
       "        vertical-align: top;\n",
       "    }\n",
       "\n",
       "    .dataframe thead th {\n",
       "        text-align: right;\n",
       "    }\n",
       "</style>\n",
       "<table border=\"1\" class=\"dataframe\">\n",
       "  <thead>\n",
       "    <tr style=\"text-align: right;\">\n",
       "      <th></th>\n",
       "      <th>Job_Title</th>\n",
       "      <th>Location</th>\n",
       "      <th>Reference</th>\n",
       "      <th>Date_Posted</th>\n",
       "    </tr>\n",
       "  </thead>\n",
       "  <tbody>\n",
       "    <tr>\n",
       "      <th>0</th>\n",
       "      <td>Bilingual Recruitment Consultant (Spanish Spea...</td>\n",
       "      <td>United States.</td>\n",
       "      <td>87408</td>\n",
       "      <td>09-Aug-2022</td>\n",
       "    </tr>\n",
       "    <tr>\n",
       "      <th>1</th>\n",
       "      <td>Coordinator, People &amp; Culture (Bilingual – Fre...</td>\n",
       "      <td>Canada.</td>\n",
       "      <td>89261</td>\n",
       "      <td>30-Aug-2022</td>\n",
       "    </tr>\n",
       "    <tr>\n",
       "      <th>2</th>\n",
       "      <td>Corporate Counsel, Contracts Specialist</td>\n",
       "      <td>United States.</td>\n",
       "      <td>82575</td>\n",
       "      <td>31-Aug-2022</td>\n",
       "    </tr>\n",
       "    <tr>\n",
       "      <th>3</th>\n",
       "      <td>Director of Recruiting Operations, Mexico</td>\n",
       "      <td>Guadalajara, Mexico.</td>\n",
       "      <td>89498</td>\n",
       "      <td>06-Sep-2022</td>\n",
       "    </tr>\n",
       "    <tr>\n",
       "      <th>4</th>\n",
       "      <td>Executive Search Recruiter</td>\n",
       "      <td>Tokyo, Japan.</td>\n",
       "      <td>84529</td>\n",
       "      <td>09-Sep-2022</td>\n",
       "    </tr>\n",
       "  </tbody>\n",
       "</table>\n",
       "</div>"
      ],
      "text/plain": [
       "                                           Job_Title              Location  \\\n",
       "0  Bilingual Recruitment Consultant (Spanish Spea...        United States.   \n",
       "1  Coordinator, People & Culture (Bilingual – Fre...               Canada.   \n",
       "2            Corporate Counsel, Contracts Specialist        United States.   \n",
       "3          Director of Recruiting Operations, Mexico  Guadalajara, Mexico.   \n",
       "4                         Executive Search Recruiter         Tokyo, Japan.   \n",
       "\n",
       "  Reference  Date_Posted  \n",
       "0     87408  09-Aug-2022  \n",
       "1     89261  30-Aug-2022  \n",
       "2     82575  31-Aug-2022  \n",
       "3     89498  06-Sep-2022  \n",
       "4     84529  09-Sep-2022  "
      ]
     },
     "execution_count": 44,
     "metadata": {},
     "output_type": "execute_result"
    }
   ],
   "source": [
    "data.head()"
   ]
  },
  {
   "cell_type": "code",
   "execution_count": 45,
   "id": "e814cc05",
   "metadata": {},
   "outputs": [
    {
     "name": "stdout",
     "output_type": "stream",
     "text": [
      "<class 'pandas.core.frame.DataFrame'>\n",
      "RangeIndex: 17 entries, 0 to 16\n",
      "Data columns (total 4 columns):\n",
      " #   Column       Non-Null Count  Dtype \n",
      "---  ------       --------------  ----- \n",
      " 0   Job_Title    17 non-null     object\n",
      " 1   Location     17 non-null     object\n",
      " 2   Reference    17 non-null     object\n",
      " 3   Date_Posted  17 non-null     object\n",
      "dtypes: object(4)\n",
      "memory usage: 672.0+ bytes\n"
     ]
    }
   ],
   "source": [
    "data.info()"
   ]
  },
  {
   "cell_type": "code",
   "execution_count": 46,
   "id": "8b040af8",
   "metadata": {},
   "outputs": [],
   "source": [
    "data.to_excel('Wilson.xlsx')"
   ]
  },
  {
   "cell_type": "code",
   "execution_count": 13,
   "id": "fbaf9de6",
   "metadata": {},
   "outputs": [],
   "source": [
    "driver.close()"
   ]
  },
  {
   "cell_type": "code",
   "execution_count": null,
   "id": "ceeb5f99",
   "metadata": {},
   "outputs": [],
   "source": []
  }
 ],
 "metadata": {
  "kernelspec": {
   "display_name": "Python 3",
   "language": "python",
   "name": "python3"
  },
  "language_info": {
   "codemirror_mode": {
    "name": "ipython",
    "version": 3
   },
   "file_extension": ".py",
   "mimetype": "text/x-python",
   "name": "python",
   "nbconvert_exporter": "python",
   "pygments_lexer": "ipython3",
   "version": "3.8.8"
  }
 },
 "nbformat": 4,
 "nbformat_minor": 5
}
