{
 "cells": [
  {
   "cell_type": "markdown",
   "id": "fd475cf5",
   "metadata": {},
   "source": [
    "### import packages"
   ]
  },
  {
   "cell_type": "code",
   "execution_count": 1,
   "id": "a9e86600",
   "metadata": {},
   "outputs": [
    {
     "name": "stdout",
     "output_type": "stream",
     "text": [
      "Finish importing packages\n"
     ]
    }
   ],
   "source": [
    "from selenium import webdriver\n",
    "from selenium.webdriver.common.keys import Keys\n",
    "from bs4 import BeautifulSoup\n",
    "from time import sleep\n",
    "import csv\n",
    "from lxml import etree\n",
    "import pandas as pd\n",
    "import numpy as np\n",
    "from selenium.webdriver.common.by import By\n",
    "\n",
    "print(\"Finish importing packages\")"
   ]
  },
  {
   "cell_type": "markdown",
   "id": "63103b7d",
   "metadata": {},
   "source": [
    "### login to linkedin"
   ]
  },
  {
   "cell_type": "code",
   "execution_count": 2,
   "id": "fde47e63",
   "metadata": {},
   "outputs": [
    {
     "name": "stderr",
     "output_type": "stream",
     "text": [
      "<ipython-input-2-e4bf6af71043>:8: DeprecationWarning: executable_path has been deprecated, please pass in a Service object\n",
      "  driver = webdriver.Chrome(PATH)\n"
     ]
    },
    {
     "name": "stdout",
     "output_type": "stream",
     "text": [
      "- Finish initializing a driver\n"
     ]
    },
    {
     "name": "stderr",
     "output_type": "stream",
     "text": [
      "<ipython-input-2-e4bf6af71043>:19: DeprecationWarning: find_element_by_* commands are deprecated. Please use find_element() instead\n",
      "  email_field = driver.find_element_by_id('username')\n"
     ]
    },
    {
     "name": "stdout",
     "output_type": "stream",
     "text": [
      "- Finish keying in email\n"
     ]
    },
    {
     "name": "stderr",
     "output_type": "stream",
     "text": [
      "<ipython-input-2-e4bf6af71043>:24: DeprecationWarning: find_element_by_* commands are deprecated. Please use find_element() instead\n",
      "  password_field = driver.find_element_by_name('session_password')\n"
     ]
    },
    {
     "name": "stdout",
     "output_type": "stream",
     "text": [
      "- Finish keying in password\n"
     ]
    },
    {
     "name": "stderr",
     "output_type": "stream",
     "text": [
      "<ipython-input-2-e4bf6af71043>:32: DeprecationWarning: find_element_by_* commands are deprecated. Please use find_element() instead\n",
      "  signin_field = driver.find_element_by_xpath('//*[@id=\"organic-div\"]/form/div[3]/button')\n"
     ]
    }
   ],
   "source": [
    "# provide chromedriver path\n",
    "\n",
    "PATH = \"C:\\Webdrivers\\Chromedriver 69\\chromedriver.exe\"\n",
    "\n",
    "\n",
    "# Open Chrome and Access Linkedin login site\n",
    "\n",
    "driver = webdriver.Chrome(PATH)\n",
    "sleep(2)\n",
    "\n",
    "login_url = 'https://www.linkedin.com/login'\n",
    "driver.get(login_url)\n",
    "print('- Finish initializing a driver')\n",
    "sleep(10)\n",
    "\n",
    "\n",
    "# Key in login credentials\n",
    "\n",
    "email_field = driver.find_element_by_id('username')\n",
    "email_field.send_keys('ashwin.ghonmode@randstadsourceright.ca')\n",
    "print('- Finish keying in email')\n",
    "sleep(10)\n",
    "\n",
    "password_field = driver.find_element_by_name('session_password')\n",
    "password_field.send_keys('Randstad@321')\n",
    "print('- Finish keying in password')\n",
    "sleep(3)\n",
    "\n",
    "\n",
    "# Click the Login button\n",
    "\n",
    "signin_field = driver.find_element_by_xpath('//*[@id=\"organic-div\"]/form/div[3]/button')\n",
    "signin_field.click()\n",
    "sleep(3)"
   ]
  },
  {
   "cell_type": "code",
   "execution_count": null,
   "id": "cfb02697",
   "metadata": {},
   "outputs": [],
   "source": []
  },
  {
   "cell_type": "markdown",
   "id": "242843e0",
   "metadata": {},
   "source": [
    " "
   ]
  },
  {
   "cell_type": "markdown",
   "id": "c527b4b8",
   "metadata": {},
   "source": [
    "### Scraping Manpower's info"
   ]
  },
  {
   "cell_type": "code",
   "execution_count": 3,
   "id": "0930dd75",
   "metadata": {},
   "outputs": [],
   "source": [
    "# provide manpower group's people page url\n",
    "\n",
    "url = 'https://www.linkedin.com/company/manpowergroup/people/'\n",
    "\n",
    "driver.get(url)\n",
    "sleep(5)"
   ]
  },
  {
   "cell_type": "code",
   "execution_count": 12,
   "id": "e5ae18d3",
   "metadata": {},
   "outputs": [
    {
     "name": "stderr",
     "output_type": "stream",
     "text": [
      "<ipython-input-12-15dec8d47f68>:1: DeprecationWarning: find_elements_by_* commands are deprecated. Please use find_elements() instead\n",
      "  driver.find_elements_by_xpath('//h2[@class=\"t-20 t-black t-bold\"]')[0].text\n"
     ]
    },
    {
     "data": {
      "text/plain": [
       "'73,024 employees'"
      ]
     },
     "execution_count": 12,
     "metadata": {},
     "output_type": "execute_result"
    }
   ],
   "source": [
    "driver.find_elements_by_xpath('//h2[@class=\"t-20 t-black t-bold\"]')[0].text"
   ]
  },
  {
   "cell_type": "code",
   "execution_count": 10,
   "id": "21d6380b",
   "metadata": {},
   "outputs": [
    {
     "name": "stdout",
     "output_type": "stream",
     "text": [
      "Total no. of employees in Manpower are:  73,024 employees\n"
     ]
    },
    {
     "name": "stderr",
     "output_type": "stream",
     "text": [
      "<ipython-input-10-64c2379842f2>:3: DeprecationWarning: find_elements_by_* commands are deprecated. Please use find_elements() instead\n",
      "  total_employees = driver.find_elements_by_xpath('//h2[@class=\"t-20 t-black t-bold\"]')\n"
     ]
    }
   ],
   "source": [
    "# save total no. employees from url \n",
    "\n",
    "total_employees = driver.find_elements_by_xpath('//h2[@class=\"t-20 t-black t-bold\"]')\n",
    "print('Total no. of employees in Manpower are: ',total_employees[0].text)"
   ]
  },
  {
   "cell_type": "markdown",
   "id": "1dd6a75a",
   "metadata": {},
   "source": [
    " "
   ]
  },
  {
   "cell_type": "code",
   "execution_count": 10,
   "id": "6804e61c",
   "metadata": {},
   "outputs": [
    {
     "name": "stderr",
     "output_type": "stream",
     "text": [
      "<ipython-input-10-7eadb48fbe99>:3: DeprecationWarning: find_elements_by_* commands are deprecated. Please use find_elements() instead\n",
      "  for emp_count in driver.find_elements_by_xpath('//strong'):\n",
      "<ipython-input-10-7eadb48fbe99>:11: DeprecationWarning: find_elements_by_* commands are deprecated. Please use find_elements() instead\n",
      "  for country in driver.find_elements_by_xpath(\"//span[@class='org-people-bar-graph-element__category']\"):\n"
     ]
    }
   ],
   "source": [
    "# storing number of employees\n",
    "employees = []\n",
    "for emp_count in driver.find_elements_by_xpath('//strong'):\n",
    "    employees.append(emp_count.text)\n",
    "#     sleep(2)\n",
    "\n",
    "\n",
    "    \n",
    "# storing country they live in \n",
    "countries = []\n",
    "for country in driver.find_elements_by_xpath(\"//span[@class='org-people-bar-graph-element__category']\"):\n",
    "    countries.append(country.text)\n",
    "#     sleep(2)"
   ]
  },
  {
   "cell_type": "code",
   "execution_count": 14,
   "id": "5b3eda1b",
   "metadata": {},
   "outputs": [],
   "source": [
    "# creating a dataframe form list\n",
    "\n",
    "manpower_employee_info = pd.DataFrame( {\n",
    "    \n",
    "    'No. of Employees':employees,\n",
    "    'Country':countries\n",
    "})"
   ]
  },
  {
   "cell_type": "code",
   "execution_count": 16,
   "id": "a456d63f",
   "metadata": {},
   "outputs": [
    {
     "data": {
      "text/html": [
       "<div>\n",
       "<style scoped>\n",
       "    .dataframe tbody tr th:only-of-type {\n",
       "        vertical-align: middle;\n",
       "    }\n",
       "\n",
       "    .dataframe tbody tr th {\n",
       "        vertical-align: top;\n",
       "    }\n",
       "\n",
       "    .dataframe thead th {\n",
       "        text-align: right;\n",
       "    }\n",
       "</style>\n",
       "<table border=\"1\" class=\"dataframe\">\n",
       "  <thead>\n",
       "    <tr style=\"text-align: right;\">\n",
       "      <th></th>\n",
       "      <th>No. of Employees</th>\n",
       "      <th>Country</th>\n",
       "    </tr>\n",
       "  </thead>\n",
       "  <tbody>\n",
       "    <tr>\n",
       "      <th>0</th>\n",
       "      <td>19,789</td>\n",
       "      <td>United States</td>\n",
       "    </tr>\n",
       "    <tr>\n",
       "      <th>1</th>\n",
       "      <td>6,548</td>\n",
       "      <td>France</td>\n",
       "    </tr>\n",
       "    <tr>\n",
       "      <th>2</th>\n",
       "      <td>4,873</td>\n",
       "      <td>India</td>\n",
       "    </tr>\n",
       "    <tr>\n",
       "      <th>3</th>\n",
       "      <td>3,262</td>\n",
       "      <td>Italy</td>\n",
       "    </tr>\n",
       "    <tr>\n",
       "      <th>4</th>\n",
       "      <td>2,858</td>\n",
       "      <td>United Kingdom</td>\n",
       "    </tr>\n",
       "    <tr>\n",
       "      <th>5</th>\n",
       "      <td>2,281</td>\n",
       "      <td>Sweden</td>\n",
       "    </tr>\n",
       "    <tr>\n",
       "      <th>6</th>\n",
       "      <td>1,943</td>\n",
       "      <td>Portugal</td>\n",
       "    </tr>\n",
       "    <tr>\n",
       "      <th>7</th>\n",
       "      <td>1,866</td>\n",
       "      <td>Brazil</td>\n",
       "    </tr>\n",
       "    <tr>\n",
       "      <th>8</th>\n",
       "      <td>1,821</td>\n",
       "      <td>Peru</td>\n",
       "    </tr>\n",
       "    <tr>\n",
       "      <th>9</th>\n",
       "      <td>1,447</td>\n",
       "      <td>Spain</td>\n",
       "    </tr>\n",
       "    <tr>\n",
       "      <th>10</th>\n",
       "      <td>1,431</td>\n",
       "      <td>Greater Milwaukee Area</td>\n",
       "    </tr>\n",
       "    <tr>\n",
       "      <th>11</th>\n",
       "      <td>1,191</td>\n",
       "      <td>Canada</td>\n",
       "    </tr>\n",
       "    <tr>\n",
       "      <th>12</th>\n",
       "      <td>1,070</td>\n",
       "      <td>Germany</td>\n",
       "    </tr>\n",
       "    <tr>\n",
       "      <th>13</th>\n",
       "      <td>894</td>\n",
       "      <td>Netherlands</td>\n",
       "    </tr>\n",
       "    <tr>\n",
       "      <th>14</th>\n",
       "      <td>621</td>\n",
       "      <td>Poland</td>\n",
       "    </tr>\n",
       "  </tbody>\n",
       "</table>\n",
       "</div>"
      ],
      "text/plain": [
       "   No. of Employees                 Country\n",
       "0            19,789           United States\n",
       "1             6,548                  France\n",
       "2             4,873                   India\n",
       "3             3,262                   Italy\n",
       "4             2,858          United Kingdom\n",
       "5             2,281                  Sweden\n",
       "6             1,943                Portugal\n",
       "7             1,866                  Brazil\n",
       "8             1,821                    Peru\n",
       "9             1,447                   Spain\n",
       "10            1,431  Greater Milwaukee Area\n",
       "11            1,191                  Canada\n",
       "12            1,070                 Germany\n",
       "13              894             Netherlands\n",
       "14              621                  Poland"
      ]
     },
     "execution_count": 16,
     "metadata": {},
     "output_type": "execute_result"
    }
   ],
   "source": [
    "manpower_employee_information = manpower_employee_info[:15]\n",
    "manpower_employee_information"
   ]
  },
  {
   "cell_type": "code",
   "execution_count": 18,
   "id": "6f74f5b0",
   "metadata": {},
   "outputs": [],
   "source": [
    "manpower_employee_education = manpower_employee_info[15:30]\n",
    "manpower_employee_education.reset_index(inplace=True)"
   ]
  },
  {
   "cell_type": "code",
   "execution_count": 19,
   "id": "9622cae6",
   "metadata": {},
   "outputs": [
    {
     "data": {
      "text/html": [
       "<div>\n",
       "<style scoped>\n",
       "    .dataframe tbody tr th:only-of-type {\n",
       "        vertical-align: middle;\n",
       "    }\n",
       "\n",
       "    .dataframe tbody tr th {\n",
       "        vertical-align: top;\n",
       "    }\n",
       "\n",
       "    .dataframe thead th {\n",
       "        text-align: right;\n",
       "    }\n",
       "</style>\n",
       "<table border=\"1\" class=\"dataframe\">\n",
       "  <thead>\n",
       "    <tr style=\"text-align: right;\">\n",
       "      <th></th>\n",
       "      <th>index</th>\n",
       "      <th>No. of Employees</th>\n",
       "      <th>Country</th>\n",
       "    </tr>\n",
       "  </thead>\n",
       "  <tbody>\n",
       "    <tr>\n",
       "      <th>0</th>\n",
       "      <td>15</td>\n",
       "      <td>261</td>\n",
       "      <td>University of Phoenix</td>\n",
       "    </tr>\n",
       "    <tr>\n",
       "      <th>1</th>\n",
       "      <td>16</td>\n",
       "      <td>228</td>\n",
       "      <td>University of Wisconsin-Milwaukee</td>\n",
       "    </tr>\n",
       "    <tr>\n",
       "      <th>2</th>\n",
       "      <td>17</td>\n",
       "      <td>172</td>\n",
       "      <td>Università degli Studi di Milano</td>\n",
       "    </tr>\n",
       "    <tr>\n",
       "      <th>3</th>\n",
       "      <td>18</td>\n",
       "      <td>160</td>\n",
       "      <td>Università degli Studi di Torino</td>\n",
       "    </tr>\n",
       "    <tr>\n",
       "      <th>4</th>\n",
       "      <td>19</td>\n",
       "      <td>134</td>\n",
       "      <td>Università Cattolica del Sacro Cuore</td>\n",
       "    </tr>\n",
       "    <tr>\n",
       "      <th>5</th>\n",
       "      <td>20</td>\n",
       "      <td>123</td>\n",
       "      <td>Sapienza Università di Roma</td>\n",
       "    </tr>\n",
       "    <tr>\n",
       "      <th>6</th>\n",
       "      <td>21</td>\n",
       "      <td>105</td>\n",
       "      <td>Università degli Studi di Padova</td>\n",
       "    </tr>\n",
       "    <tr>\n",
       "      <th>7</th>\n",
       "      <td>22</td>\n",
       "      <td>104</td>\n",
       "      <td>Alma Mater Studiorum – Università di Bologna</td>\n",
       "    </tr>\n",
       "    <tr>\n",
       "      <th>8</th>\n",
       "      <td>23</td>\n",
       "      <td>103</td>\n",
       "      <td>Universidad Peruana de Ciencias Aplicadas</td>\n",
       "    </tr>\n",
       "    <tr>\n",
       "      <th>9</th>\n",
       "      <td>24</td>\n",
       "      <td>101</td>\n",
       "      <td>Università degli Studi di Milano-Bicocca</td>\n",
       "    </tr>\n",
       "    <tr>\n",
       "      <th>10</th>\n",
       "      <td>25</td>\n",
       "      <td>83</td>\n",
       "      <td>Universidad Complutense de Madrid</td>\n",
       "    </tr>\n",
       "    <tr>\n",
       "      <th>11</th>\n",
       "      <td>26</td>\n",
       "      <td>80</td>\n",
       "      <td>Universidad de San Martín de Porres</td>\n",
       "    </tr>\n",
       "    <tr>\n",
       "      <th>12</th>\n",
       "      <td>27</td>\n",
       "      <td>72</td>\n",
       "      <td>Marquette University</td>\n",
       "    </tr>\n",
       "    <tr>\n",
       "      <th>13</th>\n",
       "      <td>28</td>\n",
       "      <td>68</td>\n",
       "      <td>Universidad Nacional Mayor de San Marcos</td>\n",
       "    </tr>\n",
       "    <tr>\n",
       "      <th>14</th>\n",
       "      <td>29</td>\n",
       "      <td>47</td>\n",
       "      <td>24ORE Business School</td>\n",
       "    </tr>\n",
       "  </tbody>\n",
       "</table>\n",
       "</div>"
      ],
      "text/plain": [
       "    index No. of Employees                                       Country\n",
       "0      15              261                         University of Phoenix\n",
       "1      16              228             University of Wisconsin-Milwaukee\n",
       "2      17              172              Università degli Studi di Milano\n",
       "3      18              160              Università degli Studi di Torino\n",
       "4      19              134          Università Cattolica del Sacro Cuore\n",
       "5      20              123                   Sapienza Università di Roma\n",
       "6      21              105              Università degli Studi di Padova\n",
       "7      22              104  Alma Mater Studiorum – Università di Bologna\n",
       "8      23              103     Universidad Peruana de Ciencias Aplicadas\n",
       "9      24              101      Università degli Studi di Milano-Bicocca\n",
       "10     25               83             Universidad Complutense de Madrid\n",
       "11     26               80           Universidad de San Martín de Porres\n",
       "12     27               72                          Marquette University\n",
       "13     28               68      Universidad Nacional Mayor de San Marcos\n",
       "14     29               47                         24ORE Business School"
      ]
     },
     "execution_count": 19,
     "metadata": {},
     "output_type": "execute_result"
    }
   ],
   "source": [
    "manpower_employee_education"
   ]
  },
  {
   "cell_type": "markdown",
   "id": "d7d25712",
   "metadata": {},
   "source": [
    " "
   ]
  },
  {
   "cell_type": "markdown",
   "id": "33769381",
   "metadata": {},
   "source": [
    "### Scraping all open job positions"
   ]
  },
  {
   "cell_type": "code",
   "execution_count": 8,
   "id": "2ab0776a",
   "metadata": {
    "scrolled": true
   },
   "outputs": [
    {
     "name": "stderr",
     "output_type": "stream",
     "text": [
      "<ipython-input-8-a41d8cd91f4e>:13: DeprecationWarning: find_elements_by_* commands are deprecated. Please use find_elements() instead\n",
      "  for title in driver.find_elements_by_xpath('//a[@class=\"disabled ember-view job-card-container__link job-card-list__title\"]'):\n",
      "<ipython-input-8-a41d8cd91f4e>:20: DeprecationWarning: find_elements_by_* commands are deprecated. Please use find_elements() instead\n",
      "  for loc in driver.find_elements_by_xpath(\"//li[@class='job-card-container__metadata-item']\"):\n",
      "<ipython-input-8-a41d8cd91f4e>:27: DeprecationWarning: find_elements_by_* commands are deprecated. Please use find_elements() instead\n",
      "  for job in driver.find_elements_by_xpath('//time'):\n"
     ]
    }
   ],
   "source": [
    "job_title = []\n",
    "job_loc = []\n",
    "date_posted = []\n",
    "\n",
    "\n",
    "for i in range(0,50,25):\n",
    "    \n",
    "    url = f'https://www.linkedin.com/jobs/search/?currentJobId=3175812597&f_C=1799%2C2312083%2C3958%2C628407%2C1912194%2C1043302%2C2203697%2C16174260%2C3271599%2C1416071&geoId=92000000&start={i}'\n",
    "    \n",
    "    driver.get(url)\n",
    "    sleep(1)\n",
    "    \n",
    "    for title in driver.find_elements_by_xpath('//a[@class=\"disabled ember-view job-card-container__link job-card-list__title\"]'):\n",
    "        if len(title.text)>0:\n",
    "            job_title.append(title.text)\n",
    "        else:\n",
    "            job_title.append(\"No info\")\n",
    "        sleep(3)\n",
    "        \n",
    "    for loc in driver.find_elements_by_xpath(\"//li[@class='job-card-container__metadata-item']\"):\n",
    "        if len(loc.text)>0:\n",
    "            job_loc.append(loc.text)\n",
    "        else:\n",
    "            job_loc.append(\"No info\")\n",
    "        sleep(3)\n",
    "        \n",
    "    for job in driver.find_elements_by_xpath('//time'):\n",
    "        if len(job.text)>0:\n",
    "            date_posted.append(job.text)\n",
    "        else:\n",
    "            date_posted.append(\"No info\")\n",
    "        sleep(3)\n",
    "        \n",
    "   \n"
   ]
  },
  {
   "cell_type": "code",
   "execution_count": 33,
   "id": "a9c6be0b",
   "metadata": {},
   "outputs": [],
   "source": [
    "jt = job_title\n",
    "jl = job_loc[0:285]\n",
    "dp = date_posted[0:285]"
   ]
  },
  {
   "cell_type": "code",
   "execution_count": 34,
   "id": "9c8b120f",
   "metadata": {},
   "outputs": [],
   "source": [
    "manpower_open_jobs = pd.DataFrame( {\n",
    "    \n",
    "    'Job_Title':jt,\n",
    "    'Location':jl,\n",
    "    'Date_Posted':dp\n",
    "})"
   ]
  },
  {
   "cell_type": "code",
   "execution_count": 35,
   "id": "744d198d",
   "metadata": {},
   "outputs": [
    {
     "data": {
      "text/html": [
       "<div>\n",
       "<style scoped>\n",
       "    .dataframe tbody tr th:only-of-type {\n",
       "        vertical-align: middle;\n",
       "    }\n",
       "\n",
       "    .dataframe tbody tr th {\n",
       "        vertical-align: top;\n",
       "    }\n",
       "\n",
       "    .dataframe thead th {\n",
       "        text-align: right;\n",
       "    }\n",
       "</style>\n",
       "<table border=\"1\" class=\"dataframe\">\n",
       "  <thead>\n",
       "    <tr style=\"text-align: right;\">\n",
       "      <th></th>\n",
       "      <th>Job_Title</th>\n",
       "      <th>Location</th>\n",
       "      <th>Date_Posted</th>\n",
       "    </tr>\n",
       "  </thead>\n",
       "  <tbody>\n",
       "    <tr>\n",
       "      <th>0</th>\n",
       "      <td>Lab Analyst (Shift/0 to 1 yr exp/Basic+Allow+A...</td>\n",
       "      <td>Singapore, Singapore</td>\n",
       "      <td>3 days ago</td>\n",
       "    </tr>\n",
       "    <tr>\n",
       "      <th>1</th>\n",
       "      <td>Accounts Payable Clerk</td>\n",
       "      <td>Miami, FL</td>\n",
       "      <td>13 hours ago\\nWithin the past 24 hours</td>\n",
       "    </tr>\n",
       "    <tr>\n",
       "      <th>2</th>\n",
       "      <td>Business Analyst</td>\n",
       "      <td>Singapore, Singapore</td>\n",
       "      <td>1 day ago</td>\n",
       "    </tr>\n",
       "    <tr>\n",
       "      <th>3</th>\n",
       "      <td>F&amp;B Management Trainee | Basic From $2800</td>\n",
       "      <td>Singapore, Singapore</td>\n",
       "      <td>3 weeks ago</td>\n",
       "    </tr>\n",
       "    <tr>\n",
       "      <th>4</th>\n",
       "      <td>Document Management Representative</td>\n",
       "      <td>Fort Worth, TX</td>\n",
       "      <td>1 day ago</td>\n",
       "    </tr>\n",
       "    <tr>\n",
       "      <th>...</th>\n",
       "      <td>...</td>\n",
       "      <td>...</td>\n",
       "      <td>...</td>\n",
       "    </tr>\n",
       "    <tr>\n",
       "      <th>280</th>\n",
       "      <td>Manager, Data Engineering</td>\n",
       "      <td>Dallas, TX</td>\n",
       "      <td>3 weeks ago</td>\n",
       "    </tr>\n",
       "    <tr>\n",
       "      <th>281</th>\n",
       "      <td>Senior People &amp; Culture Business Partner</td>\n",
       "      <td>Medical, 401(k)</td>\n",
       "      <td>Aug 24</td>\n",
       "    </tr>\n",
       "    <tr>\n",
       "      <th>282</th>\n",
       "      <td>Analista Programmatore (interno)</td>\n",
       "      <td>José León Suárez, Buenos Aires Province, Argen...</td>\n",
       "      <td>3 days ago</td>\n",
       "    </tr>\n",
       "    <tr>\n",
       "      <th>283</th>\n",
       "      <td>Loketbediende Brussels Airport</td>\n",
       "      <td>Durham, NC</td>\n",
       "      <td>2 weeks ago</td>\n",
       "    </tr>\n",
       "    <tr>\n",
       "      <th>284</th>\n",
       "      <td>IT Quality Engineer</td>\n",
       "      <td>Dubai, United Arab Emirates</td>\n",
       "      <td>6 days ago</td>\n",
       "    </tr>\n",
       "  </tbody>\n",
       "</table>\n",
       "<p>285 rows × 3 columns</p>\n",
       "</div>"
      ],
      "text/plain": [
       "                                             Job_Title  \\\n",
       "0    Lab Analyst (Shift/0 to 1 yr exp/Basic+Allow+A...   \n",
       "1                               Accounts Payable Clerk   \n",
       "2                                     Business Analyst   \n",
       "3            F&B Management Trainee | Basic From $2800   \n",
       "4                   Document Management Representative   \n",
       "..                                                 ...   \n",
       "280                          Manager, Data Engineering   \n",
       "281           Senior People & Culture Business Partner   \n",
       "282                   Analista Programmatore (interno)   \n",
       "283                     Loketbediende Brussels Airport   \n",
       "284                                IT Quality Engineer   \n",
       "\n",
       "                                              Location  \\\n",
       "0                                 Singapore, Singapore   \n",
       "1                                            Miami, FL   \n",
       "2                                 Singapore, Singapore   \n",
       "3                                 Singapore, Singapore   \n",
       "4                                       Fort Worth, TX   \n",
       "..                                                 ...   \n",
       "280                                         Dallas, TX   \n",
       "281                                    Medical, 401(k)   \n",
       "282  José León Suárez, Buenos Aires Province, Argen...   \n",
       "283                                         Durham, NC   \n",
       "284                        Dubai, United Arab Emirates   \n",
       "\n",
       "                                Date_Posted  \n",
       "0                                3 days ago  \n",
       "1    13 hours ago\\nWithin the past 24 hours  \n",
       "2                                 1 day ago  \n",
       "3                               3 weeks ago  \n",
       "4                                 1 day ago  \n",
       "..                                      ...  \n",
       "280                             3 weeks ago  \n",
       "281                                  Aug 24  \n",
       "282                              3 days ago  \n",
       "283                             2 weeks ago  \n",
       "284                              6 days ago  \n",
       "\n",
       "[285 rows x 3 columns]"
      ]
     },
     "execution_count": 35,
     "metadata": {},
     "output_type": "execute_result"
    }
   ],
   "source": [
    "manpower_open_jobs"
   ]
  },
  {
   "cell_type": "code",
   "execution_count": 13,
   "id": "1c54f7d8",
   "metadata": {},
   "outputs": [],
   "source": [
    "driver.close()"
   ]
  },
  {
   "cell_type": "code",
   "execution_count": null,
   "id": "ff91f9ef",
   "metadata": {},
   "outputs": [],
   "source": []
  },
  {
   "cell_type": "code",
   "execution_count": null,
   "id": "15c1c814",
   "metadata": {},
   "outputs": [],
   "source": []
  },
  {
   "cell_type": "code",
   "execution_count": null,
   "id": "89fd9065",
   "metadata": {},
   "outputs": [],
   "source": []
  },
  {
   "cell_type": "code",
   "execution_count": null,
   "id": "533bca25",
   "metadata": {},
   "outputs": [],
   "source": []
  },
  {
   "cell_type": "markdown",
   "id": "21788d7f",
   "metadata": {},
   "source": [
    "## Extras"
   ]
  },
  {
   "cell_type": "code",
   "execution_count": null,
   "id": "635599a6",
   "metadata": {},
   "outputs": [],
   "source": [
    "# links = ['https://www.linkedin.com/jobs/search/?currentJobId=3191430062&f_C=6227&geoId=92000000&start=',\n",
    "#          'https://www.linkedin.com/jobs/search/?currentJobId=3166438658&f_C=70373&geoId=92000000&start=',\n",
    "#          'https://www.linkedin.com/jobs/search/?currentJobId=3215759756&f_C=20814&geoId=92000000&start',\n",
    "#          'https://www.linkedin.com/jobs/search/?currentJobId=3173492203&f_C=3741&geoId=92000000&start=',\n",
    "#          'https://www.linkedin.com/jobs/search/?currentJobId=3233581366&f_C=1463%2C676158%2C29005312&geoId=92000000&start=',\n",
    "#          'https://www.linkedin.com/jobs/search/?currentJobId=3194935718&f_C=2736403%2C426966&geoId=92000000&start=',\n",
    "#          'https://www.linkedin.com/jobs/search/?currentJobId=3239451628&f_C=1799%2C2312083%2C3958%2C628407%2C1912194%2C1043302%2C2203697%2C16174260%2C3271599%2C1416071&geoId=92000000&start='\n",
    "#         ]"
   ]
  },
  {
   "cell_type": "code",
   "execution_count": null,
   "id": "ee683e65",
   "metadata": {},
   "outputs": [],
   "source": [
    "comp = ['AMS','Cielo','PeolpleScout','Korn Ferry','RSR', 'ManpowerGroup Talent Solutions', 'WilsonHCG']\n",
    "\n",
    "clients = ['Barclays', 'JPMorgan', 'Wells Fargo']"
   ]
  },
  {
   "cell_type": "code",
   "execution_count": null,
   "id": "28273e9d",
   "metadata": {},
   "outputs": [],
   "source": [
    "# Next page logic for scrapy\\\n",
    "\n",
    "# next_page = response.xpath(\"//t/a/@href\").get()\n",
    "\n",
    "# if next_page:\n",
    "#     yield scrapy.Request(response.urljoin(next_page))"
   ]
  },
  {
   "cell_type": "code",
   "execution_count": null,
   "id": "e8511f1b",
   "metadata": {},
   "outputs": [],
   "source": [
    "# Pagination with request method\n",
    "\n",
    "# url ' https://something.com/books/page-{}.html'\n",
    "\n",
    "# def start_requests(self):\n",
    "#     for i in range(1,51):\n",
    "#         yield scrapy.Request(self.url.format(i))"
   ]
  },
  {
   "cell_type": "code",
   "execution_count": null,
   "id": "7d5c9376",
   "metadata": {},
   "outputs": [],
   "source": []
  }
 ],
 "metadata": {
  "kernelspec": {
   "display_name": "Python 3",
   "language": "python",
   "name": "python3"
  },
  "language_info": {
   "codemirror_mode": {
    "name": "ipython",
    "version": 3
   },
   "file_extension": ".py",
   "mimetype": "text/x-python",
   "name": "python",
   "nbconvert_exporter": "python",
   "pygments_lexer": "ipython3",
   "version": "3.8.8"
  }
 },
 "nbformat": 4,
 "nbformat_minor": 5
}
