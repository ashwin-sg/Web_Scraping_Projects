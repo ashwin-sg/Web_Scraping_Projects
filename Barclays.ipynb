{
 "cells": [
  {
   "cell_type": "code",
   "execution_count": null,
   "id": "ee1c5da3",
   "metadata": {},
   "outputs": [],
   "source": [
    "from selenium import webdriver\n",
    "from selenium.webdriver.common.keys import Keys\n",
    "from bs4 import BeautifulSoup\n",
    "from time import sleep\n",
    "import csv \n",
    "from lxml import etree\n",
    "import pandas as pd\n",
    "import numpy as np\n",
    "from selenium.webdriver.common.by import By\n",
    "from selenium.webdriver.chrome.options import Options\n",
    "\n",
    "\n",
    "print(\"Finish importing packages\")"
   ]
  },
  {
   "cell_type": "code",
   "execution_count": null,
   "id": "bd22f684",
   "metadata": {},
   "outputs": [],
   "source": [
    "# provide chromedriver path\n",
    "\n",
    "PATH = \"C:\\Webdrivers\\Chromedriver 69\\chromedriver.exe\"\n",
    "\n",
    "\n",
    "# Open Chrome and Access Linkedin login site\n",
    "\n",
    "driver = webdriver.Chrome(PATH)\n",
    "sleep(3)\n",
    "\n",
    "print('Web driver is launched successfully')"
   ]
  },
  {
   "cell_type": "code",
   "execution_count": null,
   "id": "f1abdb42",
   "metadata": {},
   "outputs": [],
   "source": [
    "options = Options()\n",
    "options.add_argument(\"--headless\")\n",
    "driver = webdriver.Chrome(PATH, options=options)"
   ]
  },
  {
   "cell_type": "code",
   "execution_count": null,
   "id": "5a416cb1",
   "metadata": {},
   "outputs": [],
   "source": [
    "links = []\n",
    "\n",
    "\n",
    "\n",
    "creating loop to extract links of all job openings\n",
    "       \n",
    "url = f'https://search.jobs.barclays/search-jobs'\n",
    "driver.get(url)\n",
    "driver.maximize_window()\n",
    "sleep(10)\n",
    "\n",
    "for num in range(1,240):\n",
    "    \n",
    "    for element in driver.find_elements_by_xpath('//li[@class=\"list-item background--pale-blue-light round-corners\"]/a'):\n",
    "        links.append(element.get_attribute(\"href\"))\n",
    "        print(element.get_attribute(\"href\"))\n",
    "      \n",
    "\n",
    "    next_button = driver.find_element_by_xpath('//a[@class=\"next\"]')\n",
    "    next_button.click()\n",
    "    sleep(8)"
   ]
  },
  {
   "cell_type": "code",
   "execution_count": null,
   "id": "4e6a90f5",
   "metadata": {},
   "outputs": [],
   "source": [
    "len(links1)"
   ]
  },
  {
   "cell_type": "code",
   "execution_count": null,
   "id": "db571420",
   "metadata": {},
   "outputs": [],
   "source": [
    "links1 = links"
   ]
  },
  {
   "cell_type": "code",
   "execution_count": null,
   "id": "c2688e20",
   "metadata": {},
   "outputs": [],
   "source": [
    "# creating an empty list to store the data\n",
    "\n",
    "info = []\n",
    "\n",
    "\n",
    "# extracting data from all the individual links\n",
    "\n",
    "for link in links1:\n",
    "    \n",
    "    driver.get(link)\n",
    "        \n",
    "   \n",
    "    \n",
    "    for title in driver.find_elements_by_xpath('//h1[@class=\"ajd--title page-title word-break\"]'):\n",
    "        jobtitle = title.text\n",
    "      \n",
    "    for loc in driver.find_elements_by_xpath('//p[@class=\"text-block text-standard strong word-break\"]'):\n",
    "        location = loc.text\n",
    "    \n",
    "    for detail in driver.find_elements_by_xpath('//div[@class=\"flex-columns ajd--job-info-column ajd--key-info-wrapper\"]'):\n",
    "        details = detail.text\n",
    "        \n",
    "    for desc in driver.find_elements_by_xpath('//div[@class=\"ats-description\"]'):\n",
    "        description = desc.text\n",
    "        \n",
    "    info.append({\n",
    "        \n",
    "        'Job_Title': jobtitle,\n",
    "        'Location' : location,\n",
    "        'Details'  : details,\n",
    "        'Description' : description,\n",
    "        'Links' : link\n",
    "        \n",
    "    })\n",
    "    \n",
    "    sleep(5)"
   ]
  },
  {
   "cell_type": "code",
   "execution_count": null,
   "id": "f0d77757",
   "metadata": {},
   "outputs": [],
   "source": [
    "data = pd.DataFrame.from_dict(info)"
   ]
  },
  {
   "cell_type": "code",
   "execution_count": null,
   "id": "8386cd47",
   "metadata": {
    "scrolled": true
   },
   "outputs": [],
   "source": [
    "data.head()"
   ]
  },
  {
   "cell_type": "code",
   "execution_count": null,
   "id": "327f5726",
   "metadata": {},
   "outputs": [],
   "source": [
    "data.info()"
   ]
  },
  {
   "cell_type": "code",
   "execution_count": null,
   "id": "36d83184",
   "metadata": {},
   "outputs": [],
   "source": [
    "data.to_excel('Barclays.xlsx')"
   ]
  },
  {
   "cell_type": "code",
   "execution_count": null,
   "id": "6bdfc730",
   "metadata": {},
   "outputs": [],
   "source": [
    "driver.quit()"
   ]
  },
  {
   "cell_type": "code",
   "execution_count": null,
   "id": "0f335733",
   "metadata": {},
   "outputs": [],
   "source": []
  }
 ],
 "metadata": {
  "kernelspec": {
   "display_name": "Python 3",
   "language": "python",
   "name": "python3"
  },
  "language_info": {
   "codemirror_mode": {
    "name": "ipython",
    "version": 3
   },
   "file_extension": ".py",
   "mimetype": "text/x-python",
   "name": "python",
   "nbconvert_exporter": "python",
   "pygments_lexer": "ipython3",
   "version": "3.8.8"
  }
 },
 "nbformat": 4,
 "nbformat_minor": 5
}
