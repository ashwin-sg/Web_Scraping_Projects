{
 "cells": [
  {
   "cell_type": "code",
   "execution_count": 1,
   "id": "1582c47c",
   "metadata": {},
   "outputs": [],
   "source": [
    "import pandas as pd\n",
    "import numpy as np"
   ]
  },
  {
   "cell_type": "code",
   "execution_count": 29,
   "id": "06f7d196",
   "metadata": {},
   "outputs": [],
   "source": [
    "df1 = pd.read_excel('MT_JT.xlsx')\n",
    "df2 = pd.read_excel('MT_OT.xlsx')\n",
    "df3 = pd.read_excel('ManpowerTalent_EMEA.xlsx')"
   ]
  },
  {
   "cell_type": "code",
   "execution_count": 30,
   "id": "f15803f1",
   "metadata": {},
   "outputs": [
    {
     "data": {
      "text/html": [
       "<div>\n",
       "<style scoped>\n",
       "    .dataframe tbody tr th:only-of-type {\n",
       "        vertical-align: middle;\n",
       "    }\n",
       "\n",
       "    .dataframe tbody tr th {\n",
       "        vertical-align: top;\n",
       "    }\n",
       "\n",
       "    .dataframe thead th {\n",
       "        text-align: right;\n",
       "    }\n",
       "</style>\n",
       "<table border=\"1\" class=\"dataframe\">\n",
       "  <thead>\n",
       "    <tr style=\"text-align: right;\">\n",
       "      <th></th>\n",
       "      <th>Unnamed: 0</th>\n",
       "      <th>0</th>\n",
       "    </tr>\n",
       "  </thead>\n",
       "  <tbody>\n",
       "    <tr>\n",
       "      <th>0</th>\n",
       "      <td>0</td>\n",
       "      <td>Assoc Recruiter Consultant</td>\n",
       "    </tr>\n",
       "    <tr>\n",
       "      <th>1</th>\n",
       "      <td>1</td>\n",
       "      <td>Assoc Recruiter Consultant</td>\n",
       "    </tr>\n",
       "    <tr>\n",
       "      <th>2</th>\n",
       "      <td>2</td>\n",
       "      <td>Associate Recruiter</td>\n",
       "    </tr>\n",
       "    <tr>\n",
       "      <th>3</th>\n",
       "      <td>3</td>\n",
       "      <td>Benefits/LOA Program Manager - Remote</td>\n",
       "    </tr>\n",
       "    <tr>\n",
       "      <th>4</th>\n",
       "      <td>4</td>\n",
       "      <td>Bilingual Talent Acquisition Coordinator (Fren...</td>\n",
       "    </tr>\n",
       "  </tbody>\n",
       "</table>\n",
       "</div>"
      ],
      "text/plain": [
       "   Unnamed: 0                                                  0\n",
       "0           0                         Assoc Recruiter Consultant\n",
       "1           1                         Assoc Recruiter Consultant\n",
       "2           2                                Associate Recruiter\n",
       "3           3              Benefits/LOA Program Manager - Remote\n",
       "4           4  Bilingual Talent Acquisition Coordinator (Fren..."
      ]
     },
     "execution_count": 30,
     "metadata": {},
     "output_type": "execute_result"
    }
   ],
   "source": [
    "df1.head()"
   ]
  },
  {
   "cell_type": "code",
   "execution_count": 31,
   "id": "e4f1c9ce",
   "metadata": {},
   "outputs": [
    {
     "data": {
      "text/html": [
       "<div>\n",
       "<style scoped>\n",
       "    .dataframe tbody tr th:only-of-type {\n",
       "        vertical-align: middle;\n",
       "    }\n",
       "\n",
       "    .dataframe tbody tr th {\n",
       "        vertical-align: top;\n",
       "    }\n",
       "\n",
       "    .dataframe thead th {\n",
       "        text-align: right;\n",
       "    }\n",
       "</style>\n",
       "<table border=\"1\" class=\"dataframe\">\n",
       "  <thead>\n",
       "    <tr style=\"text-align: right;\">\n",
       "      <th></th>\n",
       "      <th>Unnamed: 0</th>\n",
       "      <th>0</th>\n",
       "    </tr>\n",
       "  </thead>\n",
       "  <tbody>\n",
       "    <tr>\n",
       "      <th>0</th>\n",
       "      <td>0</td>\n",
       "      <td>MILWAUKEE, WISCONSIN, UNITED STATES</td>\n",
       "    </tr>\n",
       "    <tr>\n",
       "      <th>1</th>\n",
       "      <td>1</td>\n",
       "      <td>CATEGORY:</td>\n",
       "    </tr>\n",
       "    <tr>\n",
       "      <th>2</th>\n",
       "      <td>2</td>\n",
       "      <td>Human Resources</td>\n",
       "    </tr>\n",
       "    <tr>\n",
       "      <th>3</th>\n",
       "      <td>3</td>\n",
       "      <td>POSITION TYPE:</td>\n",
       "    </tr>\n",
       "    <tr>\n",
       "      <th>4</th>\n",
       "      <td>4</td>\n",
       "      <td>Full-time</td>\n",
       "    </tr>\n",
       "    <tr>\n",
       "      <th>5</th>\n",
       "      <td>5</td>\n",
       "      <td>POSTED:</td>\n",
       "    </tr>\n",
       "    <tr>\n",
       "      <th>6</th>\n",
       "      <td>6</td>\n",
       "      <td>09-09-2022</td>\n",
       "    </tr>\n",
       "    <tr>\n",
       "      <th>7</th>\n",
       "      <td>7</td>\n",
       "      <td>MILWAUKEE, WISCONSIN, UNITED STATES</td>\n",
       "    </tr>\n",
       "    <tr>\n",
       "      <th>8</th>\n",
       "      <td>8</td>\n",
       "      <td>CATEGORY:</td>\n",
       "    </tr>\n",
       "    <tr>\n",
       "      <th>9</th>\n",
       "      <td>9</td>\n",
       "      <td>Human Resources</td>\n",
       "    </tr>\n",
       "  </tbody>\n",
       "</table>\n",
       "</div>"
      ],
      "text/plain": [
       "   Unnamed: 0                                    0\n",
       "0           0  MILWAUKEE, WISCONSIN, UNITED STATES\n",
       "1           1                            CATEGORY:\n",
       "2           2                      Human Resources\n",
       "3           3                       POSITION TYPE:\n",
       "4           4                            Full-time\n",
       "5           5                              POSTED:\n",
       "6           6                           09-09-2022\n",
       "7           7  MILWAUKEE, WISCONSIN, UNITED STATES\n",
       "8           8                            CATEGORY:\n",
       "9           9                      Human Resources"
      ]
     },
     "execution_count": 31,
     "metadata": {},
     "output_type": "execute_result"
    }
   ],
   "source": [
    "df2.head(10)"
   ]
  },
  {
   "cell_type": "code",
   "execution_count": 32,
   "id": "5989c062",
   "metadata": {},
   "outputs": [
    {
     "data": {
      "text/plain": [
       "378"
      ]
     },
     "execution_count": 32,
     "metadata": {},
     "output_type": "execute_result"
    }
   ],
   "source": [
    "len(df2)"
   ]
  },
  {
   "cell_type": "code",
   "execution_count": 33,
   "id": "baf9be8a",
   "metadata": {},
   "outputs": [
    {
     "data": {
      "text/plain": [
       "54.0"
      ]
     },
     "execution_count": 33,
     "metadata": {},
     "output_type": "execute_result"
    }
   ],
   "source": [
    "378/7"
   ]
  },
  {
   "cell_type": "code",
   "execution_count": 34,
   "id": "47cb09dc",
   "metadata": {},
   "outputs": [],
   "source": [
    "# create a logic to split required values in respedcted columns\n",
    "\n",
    "\n",
    "# create empty lists to store data\n",
    "countries = []\n",
    "date = []\n",
    "\n",
    "\n",
    "# start the loop for separating location values\n",
    "for val in range(len(df2)):\n",
    "    \n",
    "    if (val == 0) or (val%7 == 0):\n",
    "        countries.append(df2[0][val])\n",
    "        \n",
    "    "
   ]
  },
  {
   "cell_type": "code",
   "execution_count": 35,
   "id": "1ac0a5f8",
   "metadata": {},
   "outputs": [],
   "source": [
    "df1['Location'] = countries"
   ]
  },
  {
   "cell_type": "code",
   "execution_count": 36,
   "id": "6027bbfe",
   "metadata": {},
   "outputs": [],
   "source": [
    "df1 = df1.rename(columns={0:\"Job_Title\"})"
   ]
  },
  {
   "cell_type": "code",
   "execution_count": 38,
   "id": "184e8051",
   "metadata": {},
   "outputs": [
    {
     "data": {
      "text/html": [
       "<div>\n",
       "<style scoped>\n",
       "    .dataframe tbody tr th:only-of-type {\n",
       "        vertical-align: middle;\n",
       "    }\n",
       "\n",
       "    .dataframe tbody tr th {\n",
       "        vertical-align: top;\n",
       "    }\n",
       "\n",
       "    .dataframe thead th {\n",
       "        text-align: right;\n",
       "    }\n",
       "</style>\n",
       "<table border=\"1\" class=\"dataframe\">\n",
       "  <thead>\n",
       "    <tr style=\"text-align: right;\">\n",
       "      <th></th>\n",
       "      <th>Unnamed: 0</th>\n",
       "      <th>Job_Title</th>\n",
       "      <th>Location</th>\n",
       "    </tr>\n",
       "  </thead>\n",
       "  <tbody>\n",
       "    <tr>\n",
       "      <th>0</th>\n",
       "      <td>0</td>\n",
       "      <td>Assoc Recruiter Consultant</td>\n",
       "      <td>MILWAUKEE, WISCONSIN, UNITED STATES</td>\n",
       "    </tr>\n",
       "    <tr>\n",
       "      <th>1</th>\n",
       "      <td>1</td>\n",
       "      <td>Assoc Recruiter Consultant</td>\n",
       "      <td>MILWAUKEE, WISCONSIN, UNITED STATES</td>\n",
       "    </tr>\n",
       "    <tr>\n",
       "      <th>2</th>\n",
       "      <td>2</td>\n",
       "      <td>Associate Recruiter</td>\n",
       "      <td>MILWAUKEE, WISCONSIN, UNITED STATES</td>\n",
       "    </tr>\n",
       "    <tr>\n",
       "      <th>3</th>\n",
       "      <td>3</td>\n",
       "      <td>Benefits/LOA Program Manager - Remote</td>\n",
       "      <td>MILWAUKEE, WISCONSIN, UNITED STATES</td>\n",
       "    </tr>\n",
       "    <tr>\n",
       "      <th>4</th>\n",
       "      <td>4</td>\n",
       "      <td>Bilingual Talent Acquisition Coordinator (Fren...</td>\n",
       "      <td>CANADA</td>\n",
       "    </tr>\n",
       "  </tbody>\n",
       "</table>\n",
       "</div>"
      ],
      "text/plain": [
       "   Unnamed: 0                                          Job_Title  \\\n",
       "0           0                         Assoc Recruiter Consultant   \n",
       "1           1                         Assoc Recruiter Consultant   \n",
       "2           2                                Associate Recruiter   \n",
       "3           3              Benefits/LOA Program Manager - Remote   \n",
       "4           4  Bilingual Talent Acquisition Coordinator (Fren...   \n",
       "\n",
       "                              Location  \n",
       "0  MILWAUKEE, WISCONSIN, UNITED STATES  \n",
       "1  MILWAUKEE, WISCONSIN, UNITED STATES  \n",
       "2  MILWAUKEE, WISCONSIN, UNITED STATES  \n",
       "3  MILWAUKEE, WISCONSIN, UNITED STATES  \n",
       "4                               CANADA  "
      ]
     },
     "execution_count": 38,
     "metadata": {},
     "output_type": "execute_result"
    }
   ],
   "source": [
    "df1.head()"
   ]
  },
  {
   "cell_type": "code",
   "execution_count": 39,
   "id": "1a082c1d",
   "metadata": {},
   "outputs": [
    {
     "data": {
      "text/html": [
       "<div>\n",
       "<style scoped>\n",
       "    .dataframe tbody tr th:only-of-type {\n",
       "        vertical-align: middle;\n",
       "    }\n",
       "\n",
       "    .dataframe tbody tr th {\n",
       "        vertical-align: top;\n",
       "    }\n",
       "\n",
       "    .dataframe thead th {\n",
       "        text-align: right;\n",
       "    }\n",
       "</style>\n",
       "<table border=\"1\" class=\"dataframe\">\n",
       "  <thead>\n",
       "    <tr style=\"text-align: right;\">\n",
       "      <th></th>\n",
       "      <th>Unnamed: 0</th>\n",
       "      <th>Job_Title</th>\n",
       "      <th>Location</th>\n",
       "    </tr>\n",
       "  </thead>\n",
       "  <tbody>\n",
       "    <tr>\n",
       "      <th>0</th>\n",
       "      <td>0</td>\n",
       "      <td>Talent Acquisition Specialist</td>\n",
       "      <td>POLAND</td>\n",
       "    </tr>\n",
       "    <tr>\n",
       "      <th>1</th>\n",
       "      <td>1</td>\n",
       "      <td>Senior Solutions Architect</td>\n",
       "      <td>UNITED KINGDOM</td>\n",
       "    </tr>\n",
       "    <tr>\n",
       "      <th>2</th>\n",
       "      <td>2</td>\n",
       "      <td>Senior Manager RPO Program Delivery</td>\n",
       "      <td>POLAND</td>\n",
       "    </tr>\n",
       "    <tr>\n",
       "      <th>3</th>\n",
       "      <td>3</td>\n",
       "      <td>Recruitment Team Leader with French</td>\n",
       "      <td>POLAND</td>\n",
       "    </tr>\n",
       "    <tr>\n",
       "      <th>4</th>\n",
       "      <td>4</td>\n",
       "      <td>Recruitment Team Leader</td>\n",
       "      <td>POLAND</td>\n",
       "    </tr>\n",
       "  </tbody>\n",
       "</table>\n",
       "</div>"
      ],
      "text/plain": [
       "   Unnamed: 0                            Job_Title        Location\n",
       "0           0        Talent Acquisition Specialist          POLAND\n",
       "1           1           Senior Solutions Architect  UNITED KINGDOM\n",
       "2           2  Senior Manager RPO Program Delivery          POLAND\n",
       "3           3  Recruitment Team Leader with French          POLAND\n",
       "4           4              Recruitment Team Leader          POLAND"
      ]
     },
     "execution_count": 39,
     "metadata": {},
     "output_type": "execute_result"
    }
   ],
   "source": [
    "df3.head()"
   ]
  },
  {
   "cell_type": "code",
   "execution_count": 40,
   "id": "b23e931a",
   "metadata": {},
   "outputs": [],
   "source": [
    "data = pd.concat([df1,df3])"
   ]
  },
  {
   "cell_type": "code",
   "execution_count": 41,
   "id": "68df4631",
   "metadata": {},
   "outputs": [
    {
     "data": {
      "text/html": [
       "<div>\n",
       "<style scoped>\n",
       "    .dataframe tbody tr th:only-of-type {\n",
       "        vertical-align: middle;\n",
       "    }\n",
       "\n",
       "    .dataframe tbody tr th {\n",
       "        vertical-align: top;\n",
       "    }\n",
       "\n",
       "    .dataframe thead th {\n",
       "        text-align: right;\n",
       "    }\n",
       "</style>\n",
       "<table border=\"1\" class=\"dataframe\">\n",
       "  <thead>\n",
       "    <tr style=\"text-align: right;\">\n",
       "      <th></th>\n",
       "      <th>Unnamed: 0</th>\n",
       "      <th>Job_Title</th>\n",
       "      <th>Location</th>\n",
       "    </tr>\n",
       "  </thead>\n",
       "  <tbody>\n",
       "    <tr>\n",
       "      <th>0</th>\n",
       "      <td>0</td>\n",
       "      <td>Assoc Recruiter Consultant</td>\n",
       "      <td>MILWAUKEE, WISCONSIN, UNITED STATES</td>\n",
       "    </tr>\n",
       "    <tr>\n",
       "      <th>1</th>\n",
       "      <td>1</td>\n",
       "      <td>Assoc Recruiter Consultant</td>\n",
       "      <td>MILWAUKEE, WISCONSIN, UNITED STATES</td>\n",
       "    </tr>\n",
       "    <tr>\n",
       "      <th>2</th>\n",
       "      <td>2</td>\n",
       "      <td>Associate Recruiter</td>\n",
       "      <td>MILWAUKEE, WISCONSIN, UNITED STATES</td>\n",
       "    </tr>\n",
       "    <tr>\n",
       "      <th>3</th>\n",
       "      <td>3</td>\n",
       "      <td>Benefits/LOA Program Manager - Remote</td>\n",
       "      <td>MILWAUKEE, WISCONSIN, UNITED STATES</td>\n",
       "    </tr>\n",
       "    <tr>\n",
       "      <th>4</th>\n",
       "      <td>4</td>\n",
       "      <td>Bilingual Talent Acquisition Coordinator (Fren...</td>\n",
       "      <td>CANADA</td>\n",
       "    </tr>\n",
       "    <tr>\n",
       "      <th>...</th>\n",
       "      <td>...</td>\n",
       "      <td>...</td>\n",
       "      <td>...</td>\n",
       "    </tr>\n",
       "    <tr>\n",
       "      <th>3</th>\n",
       "      <td>3</td>\n",
       "      <td>Recruitment Team Leader with French</td>\n",
       "      <td>POLAND</td>\n",
       "    </tr>\n",
       "    <tr>\n",
       "      <th>4</th>\n",
       "      <td>4</td>\n",
       "      <td>Recruitment Team Leader</td>\n",
       "      <td>POLAND</td>\n",
       "    </tr>\n",
       "    <tr>\n",
       "      <th>5</th>\n",
       "      <td>5</td>\n",
       "      <td>Global Market Intelligence Manager</td>\n",
       "      <td>POLAND</td>\n",
       "    </tr>\n",
       "    <tr>\n",
       "      <th>6</th>\n",
       "      <td>6</td>\n",
       "      <td>Global IT Senior Test Specialist</td>\n",
       "      <td>POLAND</td>\n",
       "    </tr>\n",
       "    <tr>\n",
       "      <th>7</th>\n",
       "      <td>7</td>\n",
       "      <td>Cyber-Security Solutions Architect</td>\n",
       "      <td>POLAND</td>\n",
       "    </tr>\n",
       "  </tbody>\n",
       "</table>\n",
       "<p>62 rows × 3 columns</p>\n",
       "</div>"
      ],
      "text/plain": [
       "    Unnamed: 0                                          Job_Title  \\\n",
       "0            0                         Assoc Recruiter Consultant   \n",
       "1            1                         Assoc Recruiter Consultant   \n",
       "2            2                                Associate Recruiter   \n",
       "3            3              Benefits/LOA Program Manager - Remote   \n",
       "4            4  Bilingual Talent Acquisition Coordinator (Fren...   \n",
       "..         ...                                                ...   \n",
       "3            3                Recruitment Team Leader with French   \n",
       "4            4                            Recruitment Team Leader   \n",
       "5            5                 Global Market Intelligence Manager   \n",
       "6            6                   Global IT Senior Test Specialist   \n",
       "7            7                 Cyber-Security Solutions Architect   \n",
       "\n",
       "                               Location  \n",
       "0   MILWAUKEE, WISCONSIN, UNITED STATES  \n",
       "1   MILWAUKEE, WISCONSIN, UNITED STATES  \n",
       "2   MILWAUKEE, WISCONSIN, UNITED STATES  \n",
       "3   MILWAUKEE, WISCONSIN, UNITED STATES  \n",
       "4                                CANADA  \n",
       "..                                  ...  \n",
       "3                                POLAND  \n",
       "4                                POLAND  \n",
       "5                                POLAND  \n",
       "6                                POLAND  \n",
       "7                                POLAND  \n",
       "\n",
       "[62 rows x 3 columns]"
      ]
     },
     "execution_count": 41,
     "metadata": {},
     "output_type": "execute_result"
    }
   ],
   "source": [
    "data"
   ]
  },
  {
   "cell_type": "code",
   "execution_count": 42,
   "id": "7a3a33c6",
   "metadata": {},
   "outputs": [],
   "source": [
    "data.to_excel('ManpowerTalent.xlsx')"
   ]
  },
  {
   "cell_type": "code",
   "execution_count": null,
   "id": "15e4c259",
   "metadata": {},
   "outputs": [],
   "source": []
  },
  {
   "cell_type": "code",
   "execution_count": null,
   "id": "07f7c6a9",
   "metadata": {},
   "outputs": [],
   "source": []
  }
 ],
 "metadata": {
  "kernelspec": {
   "display_name": "Python 3",
   "language": "python",
   "name": "python3"
  },
  "language_info": {
   "codemirror_mode": {
    "name": "ipython",
    "version": 3
   },
   "file_extension": ".py",
   "mimetype": "text/x-python",
   "name": "python",
   "nbconvert_exporter": "python",
   "pygments_lexer": "ipython3",
   "version": "3.8.8"
  }
 },
 "nbformat": 4,
 "nbformat_minor": 5
}
