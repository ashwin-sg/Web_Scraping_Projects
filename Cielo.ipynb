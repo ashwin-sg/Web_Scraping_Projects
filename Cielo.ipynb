{
 "cells": [
  {
   "cell_type": "markdown",
   "id": "195e6259",
   "metadata": {},
   "source": [
    "#### import packages"
   ]
  },
  {
   "cell_type": "code",
   "execution_count": 5,
   "id": "b82910b1",
   "metadata": {},
   "outputs": [
    {
     "name": "stdout",
     "output_type": "stream",
     "text": [
      "Finish importing packages\n"
     ]
    }
   ],
   "source": [
    "from selenium import webdriver\n",
    "from selenium.webdriver.common.keys import Keys\n",
    "from bs4 import BeautifulSoup\n",
    "from time import sleep\n",
    "import csv \n",
    "from lxml import etree\n",
    "import pandas as pd\n",
    "import numpy as np\n",
    "from selenium.webdriver.common.by import By\n",
    "from selenium.webdriver.chrome.options import Options\n",
    "\n",
    "\n",
    "print(\"Finish importing packages\")"
   ]
  },
  {
   "cell_type": "code",
   "execution_count": 17,
   "id": "a9c322ea",
   "metadata": {},
   "outputs": [
    {
     "name": "stderr",
     "output_type": "stream",
     "text": [
      "<ipython-input-17-855cc3fcee5d>:8: DeprecationWarning: executable_path has been deprecated, please pass in a Service object\n",
      "  driver = webdriver.Chrome(PATH)\n"
     ]
    },
    {
     "name": "stdout",
     "output_type": "stream",
     "text": [
      "Web driver is launched successfully\n"
     ]
    }
   ],
   "source": [
    "# provide chromedriver path\n",
    "\n",
    "PATH = \"C:\\Webdrivers\\Chromedriver 69\\chromedriver.exe\"\n",
    "\n",
    "\n",
    "# Open Chrome and Access Linkedin login site\n",
    "\n",
    "driver = webdriver.Chrome(PATH)\n",
    "sleep(2)\n",
    "\n",
    "print('Web driver is launched successfully')"
   ]
  },
  {
   "cell_type": "code",
   "execution_count": 18,
   "id": "ed5e5e8f",
   "metadata": {},
   "outputs": [
    {
     "name": "stderr",
     "output_type": "stream",
     "text": [
      "<ipython-input-18-b31a7fd48a74>:3: DeprecationWarning: executable_path has been deprecated, please pass in a Service object\n",
      "  driver = webdriver.Chrome(PATH, options=options)\n"
     ]
    }
   ],
   "source": [
    "options = Options()\n",
    "options.add_argument(\"--headless\")\n",
    "driver = webdriver.Chrome(PATH, options=options)"
   ]
  },
  {
   "cell_type": "markdown",
   "id": "a7b82e9d",
   "metadata": {},
   "source": [
    "  "
   ]
  },
  {
   "cell_type": "markdown",
   "id": "e33d179f",
   "metadata": {},
   "source": [
    "#### Extracting a data"
   ]
  },
  {
   "cell_type": "code",
   "execution_count": 9,
   "id": "0279c5b0",
   "metadata": {},
   "outputs": [
    {
     "name": "stderr",
     "output_type": "stream",
     "text": [
      "<ipython-input-9-a5fd9378216f>:15: DeprecationWarning: find_elements_by_* commands are deprecated. Please use find_elements() instead\n",
      "  for title in driver.find_elements_by_xpath('//div[@class=\"information\"]/span/a'):\n"
     ]
    }
   ],
   "source": [
    "# creating empty list to store the links\n",
    "\n",
    "\n",
    "links = []\n",
    "\n",
    "\n",
    "# creating pagination\n",
    "\n",
    "for num in range(0,30,10):\n",
    "    \n",
    "    url = f'https://careers.cielotalent.com/us/en/search-results?from={num}&s=1'\n",
    "    driver.get(url)\n",
    "    sleep(15)\n",
    "    \n",
    "    for title in driver.find_elements_by_xpath('//div[@class=\"information\"]/span/a'):\n",
    "        links.append(title.get_attribute(\"href\"))  "
   ]
  },
  {
   "cell_type": "code",
   "execution_count": 13,
   "id": "0a60e137",
   "metadata": {},
   "outputs": [
    {
     "data": {
      "text/plain": [
       "27"
      ]
     },
     "execution_count": 13,
     "metadata": {},
     "output_type": "execute_result"
    }
   ],
   "source": [
    "len(links)"
   ]
  },
  {
   "cell_type": "code",
   "execution_count": 14,
   "id": "cbb2e7c5",
   "metadata": {},
   "outputs": [
    {
     "data": {
      "text/plain": [
       "['https://careers.cielotalent.com/us/en/job/REF2924R/Sourcing-Specialist',\n",
       " 'https://careers.cielotalent.com/us/en/job/REF2754J/Healthcare-Client-Services-Director',\n",
       " 'https://careers.cielotalent.com/us/en/job/REF2288R/Recruiter-Japanese-Speaking',\n",
       " 'https://careers.cielotalent.com/us/en/job/REF2638R/Consultant-Tech-Consulting',\n",
       " 'https://careers.cielotalent.com/us/en/job/REF3047K/Financial-Analyst',\n",
       " 'https://careers.cielotalent.com/us/en/job/REF3045X/Onsite-Recruitment-Coordinator',\n",
       " 'https://careers.cielotalent.com/us/en/job/REF2937O/Head-of-Talent-Management-EMEA',\n",
       " 'https://careers.cielotalent.com/us/en/job/REF2925M/Healthcare-Client-Services-Manager',\n",
       " 'https://careers.cielotalent.com/us/en/job/REF2954V/On-Site-Client-Services-Manager',\n",
       " 'https://careers.cielotalent.com/us/en/job/REF2112X/Delivery-Lead-Operations',\n",
       " 'https://careers.cielotalent.com/us/en/job/REF2666X/Talent-Acquisition-Coordinator-German-Speaker',\n",
       " 'https://careers.cielotalent.com/us/en/job/REF2589J/Physician-Recruiter',\n",
       " 'https://careers.cielotalent.com/us/en/job/REF2950V/Payroll-Specialist',\n",
       " 'https://careers.cielotalent.com/us/en/job/REF2955Z/Onsite-Recruiter',\n",
       " 'https://careers.cielotalent.com/us/en/job/REF2502S/Senior-Talent-Acquisition-Coordinator',\n",
       " 'https://careers.cielotalent.com/us/en/job/REF3041F/Interviewing-Specialist-French-Speaker',\n",
       " 'https://careers.cielotalent.com/us/en/job/REF2664D/Talent-Acquisition-Coordinator-German-Speaker',\n",
       " 'https://careers.cielotalent.com/us/en/job/REF2636W/Global-Payroll-Senior-Specialist',\n",
       " 'https://careers.cielotalent.com/us/en/job/REF2935N/On-site-Recruiter',\n",
       " 'https://careers.cielotalent.com/us/en/job/REF2947E/Talent-Attraction-Engagement-Lead',\n",
       " 'https://careers.cielotalent.com/us/en/job/REF2938J/Talent-Management-Business-Partner-HRBP',\n",
       " 'https://careers.cielotalent.com/us/en/job/REF2746B/Accounting-Analyst-India',\n",
       " 'https://careers.cielotalent.com/us/en/job/REF2675G/Director-Strategic-Consulting',\n",
       " 'https://careers.cielotalent.com/us/en/job/REF2623V/Revenue-Operations-Technology-Lead',\n",
       " 'https://careers.cielotalent.com/us/en/job/REF2755A/Healthcare-Client-Services-Manager',\n",
       " 'https://careers.cielotalent.com/us/en/job/REF2877L/Integration-Developer-Tech-Consulting',\n",
       " 'https://careers.cielotalent.com/us/en/job/REF3071U/Healthcare-Recruiter']"
      ]
     },
     "execution_count": 14,
     "metadata": {},
     "output_type": "execute_result"
    }
   ],
   "source": [
    "links"
   ]
  },
  {
   "cell_type": "code",
   "execution_count": 19,
   "id": "4faa5fb5",
   "metadata": {},
   "outputs": [
    {
     "name": "stderr",
     "output_type": "stream",
     "text": [
      "<ipython-input-19-3753db8d13f0>:11: DeprecationWarning: find_elements_by_* commands are deprecated. Please use find_elements() instead\n",
      "  for title in driver.find_elements_by_xpath('//h1[@class=\"job-title\"]'):\n",
      "<ipython-input-19-3753db8d13f0>:14: DeprecationWarning: find_elements_by_* commands are deprecated. Please use find_elements() instead\n",
      "  for ref in driver.find_elements_by_xpath('//div[@class=\"ph-job-details-v1-job-fields-default ph-widget-target au-target\"]'):\n",
      "<ipython-input-19-3753db8d13f0>:17: DeprecationWarning: find_elements_by_* commands are deprecated. Please use find_elements() instead\n",
      "  for desc in driver.find_elements_by_xpath('//div[@class=\"jd-info au-target\"]'):\n"
     ]
    }
   ],
   "source": [
    "# creating empty lists to store the data\n",
    "\n",
    "info = []\n",
    "\n",
    "# creating pagination\n",
    "\n",
    "for link in links:\n",
    "    \n",
    "    driver.get(link)\n",
    "    \n",
    "    for title in driver.find_elements_by_xpath('//h1[@class=\"job-title\"]'):\n",
    "        jobtitle = title.text\n",
    "        \n",
    "    for ref in driver.find_elements_by_xpath('//div[@class=\"ph-job-details-v1-job-fields-default ph-widget-target au-target\"]'):\n",
    "        details = ref.text\n",
    "      \n",
    "    for desc in driver.find_elements_by_xpath('//div[@class=\"jd-info au-target\"]'):\n",
    "        description = desc.text\n",
    " \n",
    "       \n",
    "    info.append({\n",
    "        \n",
    "        'Job_Title': jobtitle,\n",
    "        'Details'  : details,\n",
    "        'Description' : description,\n",
    "        'Links' : link\n",
    "        \n",
    "    })\n",
    "    \n",
    "    sleep(5)\n",
    "    \n",
    "    \n"
   ]
  },
  {
   "cell_type": "code",
   "execution_count": 20,
   "id": "1dd6a49b",
   "metadata": {},
   "outputs": [],
   "source": [
    "data = pd.DataFrame.from_dict(info)"
   ]
  },
  {
   "cell_type": "code",
   "execution_count": 21,
   "id": "9d0985a1",
   "metadata": {},
   "outputs": [
    {
     "data": {
      "text/html": [
       "<div>\n",
       "<style scoped>\n",
       "    .dataframe tbody tr th:only-of-type {\n",
       "        vertical-align: middle;\n",
       "    }\n",
       "\n",
       "    .dataframe tbody tr th {\n",
       "        vertical-align: top;\n",
       "    }\n",
       "\n",
       "    .dataframe thead th {\n",
       "        text-align: right;\n",
       "    }\n",
       "</style>\n",
       "<table border=\"1\" class=\"dataframe\">\n",
       "  <thead>\n",
       "    <tr style=\"text-align: right;\">\n",
       "      <th></th>\n",
       "      <th>Job_Title</th>\n",
       "      <th>Details</th>\n",
       "      <th>Description</th>\n",
       "      <th>Links</th>\n",
       "    </tr>\n",
       "  </thead>\n",
       "  <tbody>\n",
       "    <tr>\n",
       "      <th>0</th>\n",
       "      <td>Sourcing Specialist</td>\n",
       "      <td>Location\\nGurugram, HR, India\\nCategory\\nHuman...</td>\n",
       "      <td>Company Description\\nAre you ready to accelera...</td>\n",
       "      <td>https://careers.cielotalent.com/us/en/job/REF2...</td>\n",
       "    </tr>\n",
       "    <tr>\n",
       "      <th>1</th>\n",
       "      <td>Healthcare Client Services Director</td>\n",
       "      <td>Location\\nOpen to Remote\\nCategory\\nRecruiting...</td>\n",
       "      <td>Company Description\\nAre you ready to accelera...</td>\n",
       "      <td>https://careers.cielotalent.com/us/en/job/REF2...</td>\n",
       "    </tr>\n",
       "    <tr>\n",
       "      <th>2</th>\n",
       "      <td>Recruiter (Japanese Speaking)</td>\n",
       "      <td>Location\\nOpen to Remote\\nCategory\\nRecruiting...</td>\n",
       "      <td>Company Description\\nAre you ready to accelera...</td>\n",
       "      <td>https://careers.cielotalent.com/us/en/job/REF2...</td>\n",
       "    </tr>\n",
       "    <tr>\n",
       "      <th>3</th>\n",
       "      <td>Consultant, Tech Consulting</td>\n",
       "      <td>Location\\nOpen to Remote\\nCategory\\nTechnology...</td>\n",
       "      <td>Company Description\\nAre you ready to accelera...</td>\n",
       "      <td>https://careers.cielotalent.com/us/en/job/REF2...</td>\n",
       "    </tr>\n",
       "    <tr>\n",
       "      <th>4</th>\n",
       "      <td>Financial Analyst</td>\n",
       "      <td>Location\\nBrookfield, WI, United States\\nCateg...</td>\n",
       "      <td>Company Description\\nAre you ready to accelera...</td>\n",
       "      <td>https://careers.cielotalent.com/us/en/job/REF3...</td>\n",
       "    </tr>\n",
       "  </tbody>\n",
       "</table>\n",
       "</div>"
      ],
      "text/plain": [
       "                             Job_Title  \\\n",
       "0                  Sourcing Specialist   \n",
       "1  Healthcare Client Services Director   \n",
       "2        Recruiter (Japanese Speaking)   \n",
       "3          Consultant, Tech Consulting   \n",
       "4                    Financial Analyst   \n",
       "\n",
       "                                             Details  \\\n",
       "0  Location\\nGurugram, HR, India\\nCategory\\nHuman...   \n",
       "1  Location\\nOpen to Remote\\nCategory\\nRecruiting...   \n",
       "2  Location\\nOpen to Remote\\nCategory\\nRecruiting...   \n",
       "3  Location\\nOpen to Remote\\nCategory\\nTechnology...   \n",
       "4  Location\\nBrookfield, WI, United States\\nCateg...   \n",
       "\n",
       "                                         Description  \\\n",
       "0  Company Description\\nAre you ready to accelera...   \n",
       "1  Company Description\\nAre you ready to accelera...   \n",
       "2  Company Description\\nAre you ready to accelera...   \n",
       "3  Company Description\\nAre you ready to accelera...   \n",
       "4  Company Description\\nAre you ready to accelera...   \n",
       "\n",
       "                                               Links  \n",
       "0  https://careers.cielotalent.com/us/en/job/REF2...  \n",
       "1  https://careers.cielotalent.com/us/en/job/REF2...  \n",
       "2  https://careers.cielotalent.com/us/en/job/REF2...  \n",
       "3  https://careers.cielotalent.com/us/en/job/REF2...  \n",
       "4  https://careers.cielotalent.com/us/en/job/REF3...  "
      ]
     },
     "execution_count": 21,
     "metadata": {},
     "output_type": "execute_result"
    }
   ],
   "source": [
    "data.head()"
   ]
  },
  {
   "cell_type": "code",
   "execution_count": 22,
   "id": "7f39fad6",
   "metadata": {},
   "outputs": [
    {
     "name": "stderr",
     "output_type": "stream",
     "text": [
      "<ipython-input-22-9e6b4fc3551b>:1: UserWarning: Pandas requires version '1.4.3' or newer of 'xlsxwriter' (version '1.3.8' currently installed).\n",
      "  data.to_excel('Cielo.xlsx')\n"
     ]
    }
   ],
   "source": [
    "data.to_excel('Cielo.xlsx')"
   ]
  },
  {
   "cell_type": "code",
   "execution_count": 23,
   "id": "fbaf9de6",
   "metadata": {},
   "outputs": [],
   "source": [
    "driver.quit()"
   ]
  },
  {
   "cell_type": "code",
   "execution_count": null,
   "id": "913dfdf3",
   "metadata": {},
   "outputs": [],
   "source": []
  }
 ],
 "metadata": {
  "kernelspec": {
   "display_name": "Python 3",
   "language": "python",
   "name": "python3"
  },
  "language_info": {
   "codemirror_mode": {
    "name": "ipython",
    "version": 3
   },
   "file_extension": ".py",
   "mimetype": "text/x-python",
   "name": "python",
   "nbconvert_exporter": "python",
   "pygments_lexer": "ipython3",
   "version": "3.8.8"
  }
 },
 "nbformat": 4,
 "nbformat_minor": 5
}
