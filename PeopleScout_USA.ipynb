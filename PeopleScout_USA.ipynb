{
 "cells": [
  {
   "cell_type": "markdown",
   "id": "195e6259",
   "metadata": {},
   "source": [
    "#### import packages"
   ]
  },
  {
   "cell_type": "code",
   "execution_count": 1,
   "id": "b82910b1",
   "metadata": {},
   "outputs": [
    {
     "name": "stdout",
     "output_type": "stream",
     "text": [
      "Finish importing packages\n"
     ]
    }
   ],
   "source": [
    "from selenium import webdriver\n",
    "from selenium.webdriver.common.keys import Keys\n",
    "from bs4 import BeautifulSoup\n",
    "from time import sleep\n",
    "import csv \n",
    "from lxml import etree\n",
    "import pandas as pd\n",
    "import numpy as np\n",
    "from selenium.webdriver.common.by import By\n",
    "from selenium.webdriver.chrome.options import Options\n",
    "\n",
    "\n",
    "print(\"Finish importing packages\")"
   ]
  },
  {
   "cell_type": "code",
   "execution_count": 2,
   "id": "a9c322ea",
   "metadata": {},
   "outputs": [
    {
     "name": "stderr",
     "output_type": "stream",
     "text": [
      "<ipython-input-2-855cc3fcee5d>:8: DeprecationWarning: executable_path has been deprecated, please pass in a Service object\n",
      "  driver = webdriver.Chrome(PATH)\n"
     ]
    },
    {
     "name": "stdout",
     "output_type": "stream",
     "text": [
      "Web driver is launched successfully\n"
     ]
    }
   ],
   "source": [
    "# provide chromedriver path\n",
    "\n",
    "PATH = \"C:\\Webdrivers\\Chromedriver 69\\chromedriver.exe\"\n",
    "\n",
    "\n",
    "# Open Chrome and Access Linkedin login site\n",
    "\n",
    "driver = webdriver.Chrome(PATH)\n",
    "sleep(2)\n",
    "\n",
    "print('Web driver is launched successfully')"
   ]
  },
  {
   "cell_type": "code",
   "execution_count": 3,
   "id": "4d9a2c65",
   "metadata": {},
   "outputs": [
    {
     "name": "stderr",
     "output_type": "stream",
     "text": [
      "<ipython-input-3-b31a7fd48a74>:3: DeprecationWarning: executable_path has been deprecated, please pass in a Service object\n",
      "  driver = webdriver.Chrome(PATH, options=options)\n"
     ]
    }
   ],
   "source": [
    "options = Options()\n",
    "options.add_argument(\"--headless\")\n",
    "driver = webdriver.Chrome(PATH, options=options)"
   ]
  },
  {
   "cell_type": "markdown",
   "id": "a7b82e9d",
   "metadata": {},
   "source": [
    "  "
   ]
  },
  {
   "cell_type": "markdown",
   "id": "e33d179f",
   "metadata": {},
   "source": [
    "#### Extracting a data"
   ]
  },
  {
   "cell_type": "code",
   "execution_count": 8,
   "id": "d547e2f8",
   "metadata": {},
   "outputs": [
    {
     "name": "stderr",
     "output_type": "stream",
     "text": [
      "<ipython-input-8-a478aa0a6b0e>:13: DeprecationWarning: find_elements_by_* commands are deprecated. Please use find_elements() instead\n",
      "  for title in driver.find_elements_by_xpath('//div[@class=\"asc-job-public-name highlight\"]/a'):\n"
     ]
    }
   ],
   "source": [
    "# creating empty list to store the links\n",
    "\n",
    "\n",
    "links = []\n",
    "\n",
    "\n",
    "# creating pagination\n",
    "\n",
    "url = 'https://peoplescout.greatjob.net/en/openings?skills=&loc=&loc_coords='\n",
    "driver.get(url)\n",
    "sleep(15)\n",
    "\n",
    "for title in driver.find_elements_by_xpath('//div[@class=\"asc-job-public-name highlight\"]/a'):\n",
    "    links.append(title.get_attribute(\"href\"))\n",
    "    "
   ]
  },
  {
   "cell_type": "code",
   "execution_count": 9,
   "id": "a3659ff8",
   "metadata": {},
   "outputs": [
    {
     "data": {
      "text/plain": [
       "20"
      ]
     },
     "execution_count": 9,
     "metadata": {},
     "output_type": "execute_result"
    }
   ],
   "source": [
    "len(links)"
   ]
  },
  {
   "cell_type": "code",
   "execution_count": 14,
   "id": "4faa5fb5",
   "metadata": {},
   "outputs": [
    {
     "name": "stderr",
     "output_type": "stream",
     "text": [
      "<ipython-input-14-903d80467451>:15: DeprecationWarning: find_elements_by_* commands are deprecated. Please use find_elements() instead\n",
      "  for title in driver.find_elements_by_xpath('//span[@class=\"asc-job-header\"]'):\n",
      "<ipython-input-14-903d80467451>:19: DeprecationWarning: find_elements_by_* commands are deprecated. Please use find_elements() instead\n",
      "  for desc in driver.find_elements_by_xpath('//div[@class=\"asc-job-color asc-job-listing-container\"]'):\n",
      "<ipython-input-14-903d80467451>:22: DeprecationWarning: find_elements_by_* commands are deprecated. Please use find_elements() instead\n",
      "  for detail in driver.find_elements_by_xpath('//div[@class=\"addl-fields\"]'):\n"
     ]
    },
    {
     "name": "stdout",
     "output_type": "stream",
     "text": [
      "Senior Recruiter, Collection/Recycling - Virtual (1337029)\n",
      "Virtual Sr. Director, North America Talent Advisory Consulting (1336434)\n",
      "Recruiter, Food Distribution/On-site Lincoln, Illinois (1336227)\n",
      "Virtual Hospitality & Food Service Recruiter (13336180)\n",
      "Virtual Director, Client Delivery/Operations - MSP Growth and Strategy (1335231)\n",
      "Recruiter/Screener - Bilingual French Canadian - Virtual (1333321)\n",
      "Virtual Content Marketing Specialist (1334659)\n",
      "Sr. Clinical Recruiter-HYBRID (Grand Forks, ND)-1334042\n",
      "Virtual Hospitality & Food Service Strategic Sourcer (1333971)\n",
      "Supply Base Consultant - Virtual (1331071)\n",
      "Sr Recruiter, (Bilingual French/English) Collection/Recycling - Virtual/Canada (1331062)\n",
      "Client Delivery Manager - Virtual - Manufacturing (1327028)\n",
      "Sr. Recruiter - Virtual - Corporate Roles in Manufacturing (1323064)\n",
      "Sr. Recruiter - Virtual - Corporate roles in Manufacturing (1322963)\n",
      "Virtual Hospitality Bilingual Spanish Sr. Recruiter (1322121)\n",
      "Senior Recruiting Coordinator - Commercial Property Insurance - Virtual (1322053)\n",
      "Hospitality Recruiter - Virtual (1315978)\n",
      "Recruiter, Food Distribution/On-site Columbus, Ohio (1321540)\n",
      "Sr. Recruiter - Virtual - Corporate Roles - Manufacturing (1320086)\n",
      "Virtual Hospitality Talent Sourcer (1320034)\n"
     ]
    }
   ],
   "source": [
    "# creating empty lists to store the data\n",
    "\n",
    "info = []\n",
    "\n",
    "\n",
    "# extracting data from all the individual links\n",
    "\n",
    "for link in links:\n",
    "    \n",
    "    driver.get(link)\n",
    "        \n",
    "    sleep(10)   \n",
    "   \n",
    "    \n",
    "    for title in driver.find_elements_by_xpath('//span[@class=\"asc-job-header\"]'):\n",
    "        jobtitle = title.text\n",
    "        print(jobtitle)\n",
    "              \n",
    "    for desc in driver.find_elements_by_xpath('//div[@class=\"asc-job-color asc-job-listing-container\"]'):\n",
    "        description = desc.text\n",
    "        \n",
    "    for detail in driver.find_elements_by_xpath('//div[@class=\"addl-fields\"]'):\n",
    "        details = detail.text\n",
    "        \n",
    "        \n",
    "        \n",
    "    info.append({\n",
    "        \n",
    "        'Job_Title': jobtitle,\n",
    "        'Details'  : details,\n",
    "        'Description' : description,\n",
    "        'Links' : link\n",
    "        \n",
    "    })\n",
    "    \n",
    "    sleep(5)   \n",
    "    \n"
   ]
  },
  {
   "cell_type": "code",
   "execution_count": 15,
   "id": "5127f65c",
   "metadata": {},
   "outputs": [],
   "source": [
    "data = pd.DataFrame.from_dict(info)"
   ]
  },
  {
   "cell_type": "code",
   "execution_count": 16,
   "id": "13b28f2b",
   "metadata": {},
   "outputs": [
    {
     "data": {
      "text/html": [
       "<div>\n",
       "<style scoped>\n",
       "    .dataframe tbody tr th:only-of-type {\n",
       "        vertical-align: middle;\n",
       "    }\n",
       "\n",
       "    .dataframe tbody tr th {\n",
       "        vertical-align: top;\n",
       "    }\n",
       "\n",
       "    .dataframe thead th {\n",
       "        text-align: right;\n",
       "    }\n",
       "</style>\n",
       "<table border=\"1\" class=\"dataframe\">\n",
       "  <thead>\n",
       "    <tr style=\"text-align: right;\">\n",
       "      <th></th>\n",
       "      <th>Job_Title</th>\n",
       "      <th>Details</th>\n",
       "      <th>Description</th>\n",
       "      <th>Links</th>\n",
       "    </tr>\n",
       "  </thead>\n",
       "  <tbody>\n",
       "    <tr>\n",
       "      <th>0</th>\n",
       "      <td>Senior Recruiter, Collection/Recycling - Virtu...</td>\n",
       "      <td></td>\n",
       "      <td>As one of the world's top RPO providers, Peopl...</td>\n",
       "      <td>https://peoplescout.greatjob.net/en/position/s...</td>\n",
       "    </tr>\n",
       "    <tr>\n",
       "      <th>1</th>\n",
       "      <td>Virtual Sr. Director, North America Talent Adv...</td>\n",
       "      <td></td>\n",
       "      <td>As one of the world's top RPO providers, P...</td>\n",
       "      <td>https://peoplescout.greatjob.net/en/position/v...</td>\n",
       "    </tr>\n",
       "    <tr>\n",
       "      <th>2</th>\n",
       "      <td>Recruiter, Food Distribution/On-site Lincoln, ...</td>\n",
       "      <td></td>\n",
       "      <td>As one of the world's top RPO providers, Peopl...</td>\n",
       "      <td>https://peoplescout.greatjob.net/en/position/r...</td>\n",
       "    </tr>\n",
       "    <tr>\n",
       "      <th>3</th>\n",
       "      <td>Virtual Hospitality &amp; Food Service Recruiter (...</td>\n",
       "      <td></td>\n",
       "      <td>As one of the world's top RPO providers, Peopl...</td>\n",
       "      <td>https://peoplescout.greatjob.net/en/position/v...</td>\n",
       "    </tr>\n",
       "    <tr>\n",
       "      <th>4</th>\n",
       "      <td>Virtual Director, Client Delivery/Operations -...</td>\n",
       "      <td></td>\n",
       "      <td>As one of the world's top RPO providers, Peopl...</td>\n",
       "      <td>https://peoplescout.greatjob.net/en/position/v...</td>\n",
       "    </tr>\n",
       "  </tbody>\n",
       "</table>\n",
       "</div>"
      ],
      "text/plain": [
       "                                           Job_Title Details  \\\n",
       "0  Senior Recruiter, Collection/Recycling - Virtu...           \n",
       "1  Virtual Sr. Director, North America Talent Adv...           \n",
       "2  Recruiter, Food Distribution/On-site Lincoln, ...           \n",
       "3  Virtual Hospitality & Food Service Recruiter (...           \n",
       "4  Virtual Director, Client Delivery/Operations -...           \n",
       "\n",
       "                                         Description  \\\n",
       "0  As one of the world's top RPO providers, Peopl...   \n",
       "1      As one of the world's top RPO providers, P...   \n",
       "2  As one of the world's top RPO providers, Peopl...   \n",
       "3  As one of the world's top RPO providers, Peopl...   \n",
       "4  As one of the world's top RPO providers, Peopl...   \n",
       "\n",
       "                                               Links  \n",
       "0  https://peoplescout.greatjob.net/en/position/s...  \n",
       "1  https://peoplescout.greatjob.net/en/position/v...  \n",
       "2  https://peoplescout.greatjob.net/en/position/r...  \n",
       "3  https://peoplescout.greatjob.net/en/position/v...  \n",
       "4  https://peoplescout.greatjob.net/en/position/v...  "
      ]
     },
     "execution_count": 16,
     "metadata": {},
     "output_type": "execute_result"
    }
   ],
   "source": [
    "data.head()"
   ]
  },
  {
   "cell_type": "code",
   "execution_count": 17,
   "id": "c8bc9339",
   "metadata": {},
   "outputs": [
    {
     "name": "stdout",
     "output_type": "stream",
     "text": [
      "<class 'pandas.core.frame.DataFrame'>\n",
      "RangeIndex: 20 entries, 0 to 19\n",
      "Data columns (total 4 columns):\n",
      " #   Column       Non-Null Count  Dtype \n",
      "---  ------       --------------  ----- \n",
      " 0   Job_Title    20 non-null     object\n",
      " 1   Details      20 non-null     object\n",
      " 2   Description  20 non-null     object\n",
      " 3   Links        20 non-null     object\n",
      "dtypes: object(4)\n",
      "memory usage: 768.0+ bytes\n"
     ]
    }
   ],
   "source": [
    "data.info()"
   ]
  },
  {
   "cell_type": "code",
   "execution_count": 18,
   "id": "f2ea72d5",
   "metadata": {},
   "outputs": [
    {
     "name": "stderr",
     "output_type": "stream",
     "text": [
      "<ipython-input-18-4406765a379a>:1: UserWarning: Pandas requires version '1.4.3' or newer of 'xlsxwriter' (version '1.3.8' currently installed).\n",
      "  data.to_excel('PeopleScout_US.xlsx')\n"
     ]
    }
   ],
   "source": [
    "data.to_excel('PeopleScout_US.xlsx')"
   ]
  },
  {
   "cell_type": "code",
   "execution_count": 19,
   "id": "fbaf9de6",
   "metadata": {},
   "outputs": [],
   "source": [
    "driver.close()"
   ]
  },
  {
   "cell_type": "code",
   "execution_count": null,
   "id": "913dfdf3",
   "metadata": {},
   "outputs": [],
   "source": []
  }
 ],
 "metadata": {
  "kernelspec": {
   "display_name": "Python 3",
   "language": "python",
   "name": "python3"
  },
  "language_info": {
   "codemirror_mode": {
    "name": "ipython",
    "version": 3
   },
   "file_extension": ".py",
   "mimetype": "text/x-python",
   "name": "python",
   "nbconvert_exporter": "python",
   "pygments_lexer": "ipython3",
   "version": "3.8.8"
  }
 },
 "nbformat": 4,
 "nbformat_minor": 5
}
