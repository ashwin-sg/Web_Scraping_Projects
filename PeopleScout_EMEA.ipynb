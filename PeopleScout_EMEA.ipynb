{
 "cells": [
  {
   "cell_type": "markdown",
   "id": "195e6259",
   "metadata": {},
   "source": [
    "#### import packages"
   ]
  },
  {
   "cell_type": "code",
   "execution_count": 1,
   "id": "b82910b1",
   "metadata": {},
   "outputs": [
    {
     "name": "stdout",
     "output_type": "stream",
     "text": [
      "Finish importing packages\n"
     ]
    }
   ],
   "source": [
    "from selenium import webdriver\n",
    "from selenium.webdriver.common.keys import Keys\n",
    "from bs4 import BeautifulSoup\n",
    "from time import sleep\n",
    "import csv \n",
    "from lxml import etree\n",
    "import pandas as pd\n",
    "import numpy as np\n",
    "from selenium.webdriver.common.by import By\n",
    "from selenium.webdriver.chrome.options import Options\n",
    "\n",
    "\n",
    "print(\"Finish importing packages\")"
   ]
  },
  {
   "cell_type": "code",
   "execution_count": 8,
   "id": "a9c322ea",
   "metadata": {},
   "outputs": [
    {
     "name": "stderr",
     "output_type": "stream",
     "text": [
      "<ipython-input-8-855cc3fcee5d>:8: DeprecationWarning: executable_path has been deprecated, please pass in a Service object\n",
      "  driver = webdriver.Chrome(PATH)\n"
     ]
    },
    {
     "name": "stdout",
     "output_type": "stream",
     "text": [
      "Web driver is launched successfully\n"
     ]
    }
   ],
   "source": [
    "# provide chromedriver path\n",
    "\n",
    "PATH = \"C:\\Webdrivers\\Chromedriver 69\\chromedriver.exe\"\n",
    "\n",
    "\n",
    "# Open Chrome and Access Linkedin login site\n",
    "\n",
    "driver = webdriver.Chrome(PATH)\n",
    "sleep(2)\n",
    "\n",
    "print('Web driver is launched successfully')"
   ]
  },
  {
   "cell_type": "code",
   "execution_count": 5,
   "id": "070c61d5",
   "metadata": {},
   "outputs": [
    {
     "name": "stderr",
     "output_type": "stream",
     "text": [
      "<ipython-input-5-b31a7fd48a74>:3: DeprecationWarning: executable_path has been deprecated, please pass in a Service object\n",
      "  driver = webdriver.Chrome(PATH, options=options)\n"
     ]
    }
   ],
   "source": [
    "options = Options()\n",
    "options.add_argument(\"--headless\")\n",
    "driver = webdriver.Chrome(PATH, options=options)"
   ]
  },
  {
   "cell_type": "markdown",
   "id": "a7b82e9d",
   "metadata": {},
   "source": [
    "  "
   ]
  },
  {
   "cell_type": "markdown",
   "id": "e33d179f",
   "metadata": {},
   "source": [
    "#### Extracting a data"
   ]
  },
  {
   "cell_type": "code",
   "execution_count": 10,
   "id": "363b71a6",
   "metadata": {},
   "outputs": [
    {
     "name": "stderr",
     "output_type": "stream",
     "text": [
      "<ipython-input-10-22baa9ecde06>:13: DeprecationWarning: find_elements_by_* commands are deprecated. Please use find_elements() instead\n",
      "  for title in driver.find_elements_by_xpath('//td/a'):\n"
     ]
    },
    {
     "name": "stdout",
     "output_type": "stream",
     "text": [
      "https://jobs.peoplescout.co.uk/jobs/PS-1403775\n",
      "https://jobs.peoplescout.co.uk/jobs/PS-1403735\n",
      "https://jobs.peoplescout.co.uk/jobs/PS-1404115\n",
      "https://jobs.peoplescout.co.uk/jobs/PS-1404135\n",
      "https://jobs.peoplescout.co.uk/jobs/PS-1403235\n",
      "https://jobs.peoplescout.co.uk/jobs/PS-1404095\n",
      "https://jobs.peoplescout.co.uk/jobs/PS-1403955\n",
      "https://jobs.peoplescout.co.uk/jobs/PS-1404016\n",
      "https://jobs.peoplescout.co.uk/jobs/PS-1403396\n",
      "https://jobs.peoplescout.co.uk/jobs/PS-1403776\n",
      "https://jobs.peoplescout.co.uk/jobs/PS-1403575\n",
      "https://jobs.peoplescout.co.uk/jobs/PS-1403795\n",
      "https://jobs.peoplescout.co.uk/jobs/PS-1404075\n",
      "https://jobs.peoplescout.co.uk/jobs/PS-1404057\n",
      "https://jobs.peoplescout.co.uk/jobs/PS-1403875\n",
      "https://jobs.peoplescout.co.uk/jobs/PS-1403115\n"
     ]
    }
   ],
   "source": [
    "# creating empty list to store the links\n",
    "\n",
    "\n",
    "links = []\n",
    "\n",
    "\n",
    "# creating pagination\n",
    "\n",
    "url = 'https://jobs.peoplescout.co.uk/jobtools/jncustomsearch.searchResults?in_organid=20345&in_jobDate=All'\n",
    "driver.get(url)\n",
    "sleep(15)\n",
    "\n",
    "for title in driver.find_elements_by_xpath('//td/a'):\n",
    "    links.append(title.get_attribute(\"href\"))\n",
    "    print(title.get_attribute(\"href\"))\n",
    "    "
   ]
  },
  {
   "cell_type": "code",
   "execution_count": 11,
   "id": "474cbcf5",
   "metadata": {},
   "outputs": [
    {
     "data": {
      "text/plain": [
       "16"
      ]
     },
     "execution_count": 11,
     "metadata": {},
     "output_type": "execute_result"
    }
   ],
   "source": [
    "len(links)"
   ]
  },
  {
   "cell_type": "code",
   "execution_count": 13,
   "id": "4faa5fb5",
   "metadata": {},
   "outputs": [
    {
     "name": "stderr",
     "output_type": "stream",
     "text": [
      "<ipython-input-13-26e878d5bcf4>:15: DeprecationWarning: find_elements_by_* commands are deprecated. Please use find_elements() instead\n",
      "  for title in driver.find_elements_by_xpath('//h1[@class=\"col-xs-12 theme-heading\"]'):\n",
      "<ipython-input-13-26e878d5bcf4>:19: DeprecationWarning: find_elements_by_* commands are deprecated. Please use find_elements() instead\n",
      "  for detail in driver.find_elements_by_xpath('//div[@class=\"clearfix block key top\"]'):\n",
      "<ipython-input-13-26e878d5bcf4>:22: DeprecationWarning: find_elements_by_* commands are deprecated. Please use find_elements() instead\n",
      "  for detail in driver.find_elements_by_xpath('//table[@class=\"table table-striped\"]'):\n",
      "<ipython-input-13-26e878d5bcf4>:25: DeprecationWarning: find_elements_by_* commands are deprecated. Please use find_elements() instead\n",
      "  for detail in driver.find_elements_by_xpath('//div[@class=\"jobDesc\"]'):\n"
     ]
    },
    {
     "name": "stdout",
     "output_type": "stream",
     "text": [
      "Employer Brand Strategist | London\n",
      "Internal Recruitment Business Partner | Krakow\n",
      "Trainee Client Service Coordinator | Bristol / London\n",
      "Recruitment Coordinator | Krakow\n",
      "Senior Media Executive | Highams Park\n",
      "Junior Recruiter - US | Krakow\n",
      "Recruitment Marketing Manager | Bristol / London\n",
      "Strategy Director - Digital and Social | London\n",
      "Senior IT Recruiter (EMEA) | Poland (Nationwide)\n",
      "HR Automation Specialist | Krakow\n",
      "Recruiter (US) | Krakow\n",
      "Recruitment Coordinator | Bristol\n",
      "Marketing Executive | London\n",
      "Recruitment Team Leader | Krakow\n",
      "Financial Controller EMEA | Bristol / London / Hybrid, Remote working considered\n",
      "Recruitment Team Manager | Krakow\n"
     ]
    }
   ],
   "source": [
    "# creating empty lists to store the data\n",
    "\n",
    "info = []\n",
    "\n",
    "\n",
    "# extracting data from all the individual links\n",
    "\n",
    "for link in links:\n",
    "    \n",
    "    driver.get(link)\n",
    "        \n",
    "    sleep(10)   \n",
    "   \n",
    "    \n",
    "    for title in driver.find_elements_by_xpath('//h1[@class=\"col-xs-12 theme-heading\"]'):\n",
    "        jobtitle = title.text\n",
    "        print(jobtitle)\n",
    "              \n",
    "    for detail in driver.find_elements_by_xpath('//div[@class=\"clearfix block key top\"]'):\n",
    "        details_1 = detail.text\n",
    "        \n",
    "    for detail in driver.find_elements_by_xpath('//table[@class=\"table table-striped\"]'):\n",
    "        details_2 = detail.text\n",
    "        \n",
    "    for detail in driver.find_elements_by_xpath('//div[@class=\"jobDesc\"]'):\n",
    "        description = detail.text\n",
    "        \n",
    "        \n",
    "        \n",
    "    info.append({\n",
    "        \n",
    "        'Job_Title': jobtitle,\n",
    "        'Details_1'  : details_1,\n",
    "        'Details_2'  : details_2,\n",
    "        'Description' : description,\n",
    "        'Links' : link\n",
    "        \n",
    "    })\n",
    "    \n",
    "    sleep(5)   \n",
    "    \n"
   ]
  },
  {
   "cell_type": "code",
   "execution_count": 14,
   "id": "5127f65c",
   "metadata": {},
   "outputs": [],
   "source": [
    "data = pd.DataFrame.from_dict(info)"
   ]
  },
  {
   "cell_type": "code",
   "execution_count": 15,
   "id": "13b28f2b",
   "metadata": {},
   "outputs": [
    {
     "data": {
      "text/html": [
       "<div>\n",
       "<style scoped>\n",
       "    .dataframe tbody tr th:only-of-type {\n",
       "        vertical-align: middle;\n",
       "    }\n",
       "\n",
       "    .dataframe tbody tr th {\n",
       "        vertical-align: top;\n",
       "    }\n",
       "\n",
       "    .dataframe thead th {\n",
       "        text-align: right;\n",
       "    }\n",
       "</style>\n",
       "<table border=\"1\" class=\"dataframe\">\n",
       "  <thead>\n",
       "    <tr style=\"text-align: right;\">\n",
       "      <th></th>\n",
       "      <th>Job_Title</th>\n",
       "      <th>Details_1</th>\n",
       "      <th>Details_2</th>\n",
       "      <th>Description</th>\n",
       "      <th>Links</th>\n",
       "    </tr>\n",
       "  </thead>\n",
       "  <tbody>\n",
       "    <tr>\n",
       "      <th>0</th>\n",
       "      <td>Employer Brand Strategist | London</td>\n",
       "      <td>18-NOV-2022\\nPS/1403775\\nLondon</td>\n",
       "      <td>Category: Marketing / Branding / Creative\\nPos...</td>\n",
       "      <td>Job Description\\nHours:Full time, permanent\\nI...</td>\n",
       "      <td>https://jobs.peoplescout.co.uk/jobs/PS-1403775</td>\n",
       "    </tr>\n",
       "    <tr>\n",
       "      <th>1</th>\n",
       "      <td>Internal Recruitment Business Partner | Krakow</td>\n",
       "      <td>18-NOV-2022\\nPS/1403735\\nKrakow</td>\n",
       "      <td>Category: Recruitment/Staffing\\nPosition Type:...</td>\n",
       "      <td>Job Description\\nIntroduction\\nPeopleScout are...</td>\n",
       "      <td>https://jobs.peoplescout.co.uk/jobs/PS-1403735</td>\n",
       "    </tr>\n",
       "    <tr>\n",
       "      <th>2</th>\n",
       "      <td>Trainee Client Service Coordinator | Bristol /...</td>\n",
       "      <td>25-NOV-2022\\nPS/1404115\\nBristol / London</td>\n",
       "      <td>Category: Sales / Client Services\\nPosition Ty...</td>\n",
       "      <td>Job Description\\nHours: Full Time, Permanent\\n...</td>\n",
       "      <td>https://jobs.peoplescout.co.uk/jobs/PS-1404115</td>\n",
       "    </tr>\n",
       "    <tr>\n",
       "      <th>3</th>\n",
       "      <td>Recruitment Coordinator | Krakow</td>\n",
       "      <td>30-NOV-2022\\nPS/1404135\\nKrakow</td>\n",
       "      <td>Category: Recruitment/Staffing\\nPosition Type:...</td>\n",
       "      <td>Job Description\\n  As a Recruiting Coordinator...</td>\n",
       "      <td>https://jobs.peoplescout.co.uk/jobs/PS-1404135</td>\n",
       "    </tr>\n",
       "    <tr>\n",
       "      <th>4</th>\n",
       "      <td>Senior Media Executive | Highams Park</td>\n",
       "      <td>18-NOV-2022\\nPS/1403235\\nHighams Park</td>\n",
       "      <td>Category: Sales / Client Services\\nPosition Ty...</td>\n",
       "      <td>Job Description\\nLocation: Tottenham Court Roa...</td>\n",
       "      <td>https://jobs.peoplescout.co.uk/jobs/PS-1403235</td>\n",
       "    </tr>\n",
       "  </tbody>\n",
       "</table>\n",
       "</div>"
      ],
      "text/plain": [
       "                                           Job_Title  \\\n",
       "0                 Employer Brand Strategist | London   \n",
       "1     Internal Recruitment Business Partner | Krakow   \n",
       "2  Trainee Client Service Coordinator | Bristol /...   \n",
       "3                   Recruitment Coordinator | Krakow   \n",
       "4              Senior Media Executive | Highams Park   \n",
       "\n",
       "                                   Details_1  \\\n",
       "0            18-NOV-2022\\nPS/1403775\\nLondon   \n",
       "1            18-NOV-2022\\nPS/1403735\\nKrakow   \n",
       "2  25-NOV-2022\\nPS/1404115\\nBristol / London   \n",
       "3            30-NOV-2022\\nPS/1404135\\nKrakow   \n",
       "4      18-NOV-2022\\nPS/1403235\\nHighams Park   \n",
       "\n",
       "                                           Details_2  \\\n",
       "0  Category: Marketing / Branding / Creative\\nPos...   \n",
       "1  Category: Recruitment/Staffing\\nPosition Type:...   \n",
       "2  Category: Sales / Client Services\\nPosition Ty...   \n",
       "3  Category: Recruitment/Staffing\\nPosition Type:...   \n",
       "4  Category: Sales / Client Services\\nPosition Ty...   \n",
       "\n",
       "                                         Description  \\\n",
       "0  Job Description\\nHours:Full time, permanent\\nI...   \n",
       "1  Job Description\\nIntroduction\\nPeopleScout are...   \n",
       "2  Job Description\\nHours: Full Time, Permanent\\n...   \n",
       "3  Job Description\\n  As a Recruiting Coordinator...   \n",
       "4  Job Description\\nLocation: Tottenham Court Roa...   \n",
       "\n",
       "                                            Links  \n",
       "0  https://jobs.peoplescout.co.uk/jobs/PS-1403775  \n",
       "1  https://jobs.peoplescout.co.uk/jobs/PS-1403735  \n",
       "2  https://jobs.peoplescout.co.uk/jobs/PS-1404115  \n",
       "3  https://jobs.peoplescout.co.uk/jobs/PS-1404135  \n",
       "4  https://jobs.peoplescout.co.uk/jobs/PS-1403235  "
      ]
     },
     "execution_count": 15,
     "metadata": {},
     "output_type": "execute_result"
    }
   ],
   "source": [
    "data.head()"
   ]
  },
  {
   "cell_type": "code",
   "execution_count": 16,
   "id": "800a0d9e",
   "metadata": {},
   "outputs": [
    {
     "name": "stdout",
     "output_type": "stream",
     "text": [
      "<class 'pandas.core.frame.DataFrame'>\n",
      "RangeIndex: 16 entries, 0 to 15\n",
      "Data columns (total 5 columns):\n",
      " #   Column       Non-Null Count  Dtype \n",
      "---  ------       --------------  ----- \n",
      " 0   Job_Title    16 non-null     object\n",
      " 1   Details_1    16 non-null     object\n",
      " 2   Details_2    16 non-null     object\n",
      " 3   Description  16 non-null     object\n",
      " 4   Links        16 non-null     object\n",
      "dtypes: object(5)\n",
      "memory usage: 768.0+ bytes\n"
     ]
    }
   ],
   "source": [
    "data.info()"
   ]
  },
  {
   "cell_type": "code",
   "execution_count": 19,
   "id": "2baaea2c",
   "metadata": {},
   "outputs": [
    {
     "name": "stderr",
     "output_type": "stream",
     "text": [
      "<ipython-input-19-3d4906f0478d>:1: UserWarning: Pandas requires version '1.4.3' or newer of 'xlsxwriter' (version '1.3.8' currently installed).\n",
      "  data.to_excel('PeopleScout_EMEA.xlsx')\n"
     ]
    }
   ],
   "source": [
    "data.to_excel('PeopleScout_EMEA.xlsx')"
   ]
  },
  {
   "cell_type": "code",
   "execution_count": 18,
   "id": "fbaf9de6",
   "metadata": {},
   "outputs": [],
   "source": [
    "driver.close()"
   ]
  },
  {
   "cell_type": "code",
   "execution_count": null,
   "id": "913dfdf3",
   "metadata": {},
   "outputs": [],
   "source": []
  }
 ],
 "metadata": {
  "kernelspec": {
   "display_name": "Python 3",
   "language": "python",
   "name": "python3"
  },
  "language_info": {
   "codemirror_mode": {
    "name": "ipython",
    "version": 3
   },
   "file_extension": ".py",
   "mimetype": "text/x-python",
   "name": "python",
   "nbconvert_exporter": "python",
   "pygments_lexer": "ipython3",
   "version": "3.8.8"
  }
 },
 "nbformat": 4,
 "nbformat_minor": 5
}
